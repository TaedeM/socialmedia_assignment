{
 "cells": [
  {
   "cell_type": "code",
   "execution_count": 47,
   "metadata": {
    "pycharm": {
     "name": "#%%\n"
    }
   },
   "outputs": [],
   "source": [
    "import networkx as nx\n",
    "import pandas as pd\n",
    "import matplotlib.pyplot as plt\n",
    "import numpy as np\n",
    "import matplotlib.colors as mcolors\n",
    "import matplotlib.cm as cm\n",
    "import matplotlib\n",
    "import re"
   ]
  },
  {
   "cell_type": "code",
   "execution_count": 48,
   "metadata": {
    "pycharm": {
     "name": "#%%\n"
    }
   },
   "outputs": [
    {
     "name": "stdout",
     "output_type": "stream",
     "text": [
      "         source_user   mentioned_user  \\\n",
      "0           notherle        dude_stay   \n",
      "1           notherle       facikwacik   \n",
      "2           notherle     crazycold739   \n",
      "3           notherle       filippecak   \n",
      "4           notherle      u_yousolame   \n",
      "..               ...              ...   \n",
      "842     bulletking61     bulletking61   \n",
      "843     mx_hippakrit     mx_hippakrit   \n",
      "844  shers_wird_stuf  shers_wird_stuf   \n",
      "845   fastblueapple9  shers_wird_stuf   \n",
      "846     centurionfox            steam   \n",
      "\n",
      "                                            tweet_text  \n",
      "0    RT @dude_stay: Plz help us save the this game ...  \n",
      "1    RT @FacikWacik: My favorite game is dying ????...  \n",
      "2    RT @CraZyCold739: I associate with this game n...  \n",
      "3    RT @FilipPecak: Hi people. Let's save #SafeTF2...  \n",
      "4    RT @u_yousolame: I been playing tf2 for a few ...  \n",
      "..                                                 ...  \n",
      "842              #SafeTF2  PLZZZZZZZZZZZZZZZZZZZZZZZZZ  \n",
      "843  I know I'm late for this but #SafeTF2 (':\\n\\nh...  \n",
      "844  I know Im maybe late, but I dont care, I lov...  \n",
      "845  RT @Shers_wird_stuf: I know Im maybe late, bu...  \n",
      "846  @Steam Every time steam or valve posts somethi...  \n",
      "\n",
      "[847 rows x 3 columns]\n"
     ]
    }
   ],
   "source": [
    "filepath = './tweets.csv'\n",
    "\n",
    "df = pd.read_csv(filepath, delimiter=',',\n",
    "                skiprows=1, # skips the first line of the file\n",
    "                encoding='unicode_escape', # prevents errors on unknown symbols\n",
    "                usecols=['Vertex 1', 'Vertex 2', 'Tweet'], # only import the columns we use\n",
    "                )\n",
    "df.columns = ['source_user', 'mentioned_user', 'tweet_text']\n",
    "\n",
    "print(df)"
   ]
  },
  {
   "cell_type": "code",
   "execution_count": 49,
   "metadata": {
    "pycharm": {
     "name": "#%%\n"
    }
   },
   "outputs": [],
   "source": [
    "# add nodes? first export df to list/dictionary then transform? or easier way?"
   ]
  },
  {
   "cell_type": "code",
   "execution_count": 50,
   "metadata": {
    "pycharm": {
     "name": "#%%\n"
    }
   },
   "outputs": [
    {
     "name": "stdout",
     "output_type": "stream",
     "text": [
      "344\n"
     ]
    }
   ],
   "source": [
    "G = nx.DiGraph()\n",
    "colors = []\n",
    "for source_user, mentioned_user, tweet_text in zip(df.source_user, df.mentioned_user, df.tweet_text):\n",
    "\n",
    "    if source_user != mentioned_user:\n",
    "        G.add_edge(source_user, mentioned_user)\n",
    "        if \"RT\" in tweet_text[:3]:\n",
    "            colors.append(\"black\")\n",
    "        else:\n",
    "            colors.append(\"red\")\n",
    "\n",
    "node_colors = np.arange(0.0, 1.0, 1/G.number_of_nodes())\n",
    "print(len(node_colors))"
   ]
  },
  {
   "cell_type": "code",
   "execution_count": 51,
   "metadata": {
    "pycharm": {
     "name": "#%%\n"
    }
   },
   "outputs": [
    {
     "data": {
      "text/plain": [
       "344"
      ]
     },
     "execution_count": 51,
     "metadata": {},
     "output_type": "execute_result"
    }
   ],
   "source": [
    "G.number_of_nodes()"
   ]
  },
  {
   "cell_type": "code",
   "execution_count": 52,
   "metadata": {
    "pycharm": {
     "name": "#%%\n"
    }
   },
   "outputs": [
    {
     "data": {
      "text/plain": [
       "434"
      ]
     },
     "execution_count": 52,
     "metadata": {},
     "output_type": "execute_result"
    }
   ],
   "source": [
    "G.number_of_edges()"
   ]
  },
  {
   "cell_type": "code",
   "execution_count": 53,
   "metadata": {
    "pycharm": {
     "name": "#%%\n"
    }
   },
   "outputs": [],
   "source": [
    "measures = {\"centrality\": {'in_degree': nx.in_degree_centrality(G), 'out_degree': nx.out_degree_centrality(G),\n",
    "                           'betweenness': nx.betweenness_centrality(G), 'closeness': nx.closeness_centrality(G)}}\n",
    "out_degrees = []\n",
    "for key, value in nx.out_degree_centrality(G).items():\n",
    "    out_degrees.append(value)\n",
    "\n",
    "minima = min(out_degrees)\n",
    "maxima = max(out_degrees)\n",
    "\n",
    "norm = matplotlib.colors.Normalize(vmin=minima, vmax=maxima, clip=True)\n",
    "mapper = cm.ScalarMappable(norm=norm, cmap=cm.Greys_r)\n",
    "node_colors = []\n",
    "for v in out_degrees:\n",
    "    node_colors.append(mapper.to_rgba(v)[0])\n"
   ]
  },
  {
   "cell_type": "code",
   "execution_count": 85,
   "metadata": {},
   "outputs": [
    {
     "name": "stdout",
     "output_type": "stream",
     "text": [
      "simon_word\n",
      "45\n",
      "simon_word\n",
      "5\n",
      "simon_word\n",
      "9\n",
      "{'notherle': {'words': 234, 'i_words': 6, 'you_words': 2, 'we_words': 1, 'num_tweets': 10}, 'joseeliansalva1': {'words': 1, 'num_tweets': 1}, 'williw80472984': {'words': 28, 'i_words': 1, 'num_tweets': 1}, 'margisstupid': {'words': 27, 'num_tweets': 1}, 'wisco1180': {'words': 27, 'num_tweets': 1}, 'alexsha71075971': {'words': 4, 'num_tweets': 1}, 'kubekposting': {'words': 12, 'i_words': 1, 'num_tweets': 1}, 'edgaror37098062': {'words': 2, 'num_tweets': 1}, 'amoru01369152': {'words': 107, 'num_tweets': 1}, 'j__peg': {'words': 31, 'i_words': 2, 'num_tweets': 1}, 'rainman50258089': {'words': 12, 'num_tweets': 2}, 'gd0ud': {'words': 31, 'i_words': 2, 'num_tweets': 1}, 'rubysunseto': {'words': 31, 'i_words': 2, 'num_tweets': 1}, 'isabourian': {'words': 21, 'num_tweets': 3}, 'snastheweirdone': {'words': 4, 'num_tweets': 1}, 'cyber_pixeeel': {'words': 27, 'num_tweets': 1}, '98tremor': {'words': 13, 'num_tweets': 1}, 'brahmfunny': {'words': 3, 'we_words': 1, 'num_tweets': 1}, 'janekkotlet': {'words': 3, 'i_words': 1, 'num_tweets': 1}, 'bananajon123': {'words': 2, 'num_tweets': 1}, 'ar4ys_': {'words': 32, 'i_words': 2, 'num_tweets': 1}, 'tntast1': {'words': 14, 'i_words': 2, 'num_tweets': 1}, 'moxxiesimp': {'words': 28, 'we_words': 1, 'num_tweets': 1}, 'pannalesnik3': {'words': 17, 'i_words': 1, 'num_tweets': 1}, 'aqua2701': {'words': 6, 'num_tweets': 1}, 'zack1764694126': {'words': 25, 'num_tweets': 1}, 'marcel25419707': {'words': 3, 'num_tweets': 1}, 'wallstreetkong': {'words': 1, 'num_tweets': 1}, 'h10ur_s': {'words': 12, 'num_tweets': 1}, 'smuwus': {'words': 1, 'num_tweets': 1}, 'stosin2': {'words': 5, 'num_tweets': 1}, 'navi1337_': {'words': 1, 'num_tweets': 1}, 'elian77808966': {'words': 27, 'num_tweets': 1}, '3ermundoman': {'words': 27, 'num_tweets': 1}, 'eppsnl': {'words': 50, 'i_words': 1, 'num_tweets': 2}, 'roberteoidgaf': {'words': 24, 'num_tweets': 1}, 'patpol51444250': {'words': 25, 'i_words': 2, 'num_tweets': 1}, 'wonter210': {'words': 4, 'num_tweets': 1}, 'tezeta54369292': {'words': 1, 'num_tweets': 1}, 'unfantasm': {'words': 4, 'num_tweets': 1}, 'postrome': {'words': 40, 'num_tweets': 2}, 'esmilios': {'words': 4, 'num_tweets': 1}, 'lautaro_prado6': {'words': 29, 'num_tweets': 2}, 'shockblaster1': {'words': 4, 'num_tweets': 1}, 'ghadiw_safetf2': {'words': 156, 'num_tweets': 2}, 'safiroanejo': {'words': 246, 'num_tweets': 3}, 'paquito_182': {'words': 9, 'num_tweets': 1}, 'rrijnwoude': {'words': 1, 'num_tweets': 1}, 'creeperking2002': {'words': 9, 'num_tweets': 1}, 'displume_': {'words': 3, 'num_tweets': 1}, 'vectus7': {'words': 245, 'i_words': 3, 'you_words': 1, 'we_words': 3, 'num_tweets': 11}, 'shinyasshole': {'words': 28, 'i_words': 1, 'num_tweets': 1}, 'iamexydis': {'words': 4, 'num_tweets': 1}, 'technowings2': {'words': 31, 'i_words': 2, 'num_tweets': 1}, '_megacomet_': {'words': 31, 'i_words': 3, 'num_tweets': 1}, 'matherook': {'words': 1, 'num_tweets': 1}, 'livsbian': {'words': 11, 'i_words': 1, 'num_tweets': 1}, 'ray_404_2': {'words': 14, 'i_words': 1, 'num_tweets': 1}, 'przemek92215723': {'words': 1, 'num_tweets': 1}, 'studiossylv': {'words': 15, 'num_tweets': 1}, 'stevemiaulol039': {'words': 12, 'num_tweets': 1}, 'xxrubensilva': {'words': 12, 'num_tweets': 3}, 'skanda1i5t': {'words': 23, 'you_words': 1, 'num_tweets': 1}, 'l_i_x_e': {'words': 17, 'num_tweets': 1}, 'senpai_unknownr': {'words': 12, 'you_words': 1, 'num_tweets': 1}, 'mor1nator': {'words': 33, 'you_words': 2, 'num_tweets': 3}, 'pengpoii': {'words': 13, 'num_tweets': 2}, 'dekolo123': {'words': 74, 'i_words': 2, 'we_words': 1, 'num_tweets': 4}, 'toonblood': {'words': 25, 'num_tweets': 1}, 'hermmn_0': {'words': 72, 'num_tweets': 7}, 'i13thnightmarei': {'words': 29, 'i_words': 2, 'num_tweets': 1}, 'aftunwilliam': {'words': 4, 'num_tweets': 1}, 'rynoscrap': {'words': 19, 'num_tweets': 1}, 'trippnichols4': {'words': 1, 'num_tweets': 1}, 'spqrlegionarius': {'words': 75, 'num_tweets': 2}, 'clmlfm': {'words': 9, 'num_tweets': 1}, 'forkstaf': {'words': 11, 'num_tweets': 1}, 'firebladeent': {'words': 14, 'num_tweets': 1}, 'fpieselek': {'words': 6, 'num_tweets': 1}, 'crimson_mayhem_': {'words': 26, 'num_tweets': 1}, 'ttcaptaingus': {'words': 26, 'num_tweets': 1}, 'rrinking': {'words': 33, 'i_words': 2, 'num_tweets': 1}, 'acornrolluwu': {'words': 19, 'num_tweets': 1}, 'stupidcake17': {'words': 832, 'i_words': 17, 'you_words': 1, 'we_words': 4, 'num_tweets': 46}, 'felipetweaks': {'words': 7, 'num_tweets': 1}, 'turgineer_': {'words': 25, 'i_words': 2, 'num_tweets': 1}, 'bfullofmeat': {'words': 24, 'num_tweets': 1}, 'lemonade_raid': {'words': 27, 'i_words': 1, 'we_words': 1, 'num_tweets': 1}, 'fieldofsilly': {'words': 27, 'you_words': 1, 'num_tweets': 1}, 'dioxazine12': {'words': 3, 'num_tweets': 1}, 'kryto34': {'words': 4, 'num_tweets': 1}, 'lildiesel5': {'words': 24, 'i_words': 1, 'num_tweets': 1}, 'thegoddamnsky': {'words': 27, 'we_words': 1, 'num_tweets': 1}, 'midnos14': {'words': 444, 'i_words': 11, 'you_words': 1, 'we_words': 6, 'num_tweets': 23}, 'karmecld': {'words': 22, 'num_tweets': 1}, 'idiotxddd1': {'words': 10, 'i_words': 1, 'num_tweets': 1}, 'whymemelord': {'words': 36, 'i_words': 3, 'num_tweets': 1}, 'dawnmaskedguy': {'words': 26, 'num_tweets': 1}, 'harikacaner123': {'words': 20, 'we_words': 2, 'num_tweets': 1}, 'mlpdisneylover': {'words': 26, 'num_tweets': 1}, 'thicc_viking': {'words': 26, 'i_words': 1, 'num_tweets': 1}, 'lukas92690729': {'words': 25, 'num_tweets': 1}, 'matt_sumon': {'words': 26, 'num_tweets': 1}, 'nieswillsneeze': {'words': 28, 'i_words': 2, 'num_tweets': 1}, 'dani751poland': {'words': 14, 'num_tweets': 1}, '333ajc2': {'words': 19, 'num_tweets': 1}, 'kosogore': {'words': 114, 'num_tweets': 1}, 'firearmleo28': {'words': 1, 'num_tweets': 1}, 'joaquinmaciel_': {'words': 2, 'num_tweets': 1}, 'jul4ncrazy': {'words': 2, 'num_tweets': 1}, 'lazycola_': {'words': 29, 'num_tweets': 1}, 'justtheking1667': {'words': 15, 'num_tweets': 1}, 'axel7243': {'words': 29, 'i_words': 1, 'num_tweets': 1}, 'kmykolayovych': {'words': 10, 'num_tweets': 1}, 'sakurarozu': {'words': 56, 'i_words': 2, 'num_tweets': 2}, 'number1player7': {'words': 1, 'num_tweets': 1}, 'korkiyes': {'words': 6, 'num_tweets': 1}, 'randytheloq': {'words': 29, 'num_tweets': 1}, 'lil_spaghettini': {'words': 1, 'num_tweets': 1}, 'ostlandjihad': {'words': 13, 'num_tweets': 1}, 'plzbanme': {'words': 31, 'i_words': 3, 'num_tweets': 1}, 'ravagerorr': {'words': 33, 'i_words': 2, 'num_tweets': 1}, 'hoovyman17': {'words': 22, 'num_tweets': 1}, 'yeimmeleehero': {'words': 29, 'i_words': 3, 'num_tweets': 1}, 'memeego': {'words': 9, 'i_words': 1, 'you_words': 1, 'num_tweets': 1}, 'shopskib': {'words': 12, 'i_words': 1, 'you_words': 1, 'num_tweets': 1}, 'hoodiehoot': {'words': 5, 'num_tweets': 1}, 'moneyinflation': {'words': 4, 'num_tweets': 1}, 'vivar7axel': {'words': 28, 'i_words': 2, 'num_tweets': 1}, 'inatinyhotel': {'words': 25, 'you_words': 2, 'num_tweets': 1}, 'folyqe': {'words': 19, 'you_words': 2, 'num_tweets': 1}, 'gamdadragonite': {'words': 26, 'i_words': 2, 'num_tweets': 1}, 'jevilwastaken': {'words': 7, 'num_tweets': 1}, 'super_jillop': {'words': 1, 'num_tweets': 1}, 'hobozone_': {'words': 6, 'num_tweets': 1}, 'boflond': {'words': 28, 'i_words': 2, 'num_tweets': 1}, 'hoody_chan2002': {'words': 25, 'num_tweets': 1}, 'deltaforcesreal': {'words': 17, 'num_tweets': 2}, 'darthvader_8888': {'words': 22, 'num_tweets': 1}, '1624the': {'words': 48, 'num_tweets': 2}, 'palabraprohibi': {'words': 15, 'num_tweets': 1}, '_nagarat_': {'words': 1, 'num_tweets': 1}, 'hellstar_rin': {'words': 33, 'i_words': 2, 'num_tweets': 1}, 'dirakial': {'words': 12, 'num_tweets': 1}, 'justintrombitas': {'words': 131, 'i_words': 4, 'num_tweets': 5}, 'khaki_jeanart': {'words': 90, 'i_words': 4, 'num_tweets': 4}, 'themamng': {'words': 27, 'i_words': 3, 'num_tweets': 1}, 'blackcorfield': {'words': 23, 'num_tweets': 1}, 'uvaverde_god': {'words': 197, 'i_words': 1, 'num_tweets': 8}, 'celaear': {'words': 20, 'num_tweets': 1}, 'akowop': {'words': 10, 'we_words': 2, 'num_tweets': 1}, 'archaicmodern': {'words': 58, 'we_words': 2, 'num_tweets': 2}, 'mashupmixpro77': {'words': 2, 'num_tweets': 1}, 'realmatiaris': {'words': 7, 'i_words': 1, 'num_tweets': 1}, 'rinsthighsaret1': {'words': 1, 'num_tweets': 1}, 'dylanithink_': {'words': 13, 'num_tweets': 1}, 'cheeseball3737': {'words': 1, 'num_tweets': 1}, 'ronaldocouves': {'words': 2, 'num_tweets': 1}, 'laugje1234': {'words': 1, 'num_tweets': 1}, 'valequla': {'words': 11, 'num_tweets': 1}, 'coneepic': {'words': 1, 'num_tweets': 1}, 'pedro_spiderman': {'words': 1, 'num_tweets': 1}, 'lpsslang2': {'words': 1, 'num_tweets': 1}, 'themisterdax': {'words': 22, 'i_words': 1, 'num_tweets': 1}, 'realzachary0325': {'words': 1, 'num_tweets': 1}, 'wynndam1': {'words': 24, 'i_words': 1, 'num_tweets': 1}, 'combensky': {'words': 4, 'num_tweets': 1}, 'potatowithsala1': {'words': 67, 'i_words': 2, 'num_tweets': 3}, 'skelegummy': {'words': 25, 'i_words': 1, 'num_tweets': 1}, 'theonlyp1fan': {'words': 28, 'i_words': 1, 'num_tweets': 1}, 'kirakanofficial': {'words': 4, 'num_tweets': 1}, 'm4st3r_bl4z3': {'words': 26, 'num_tweets': 1}, 'brokeryann': {'words': 1, 'num_tweets': 1}, 'theromeroguy': {'words': 28, 'i_words': 1, 'num_tweets': 1}, 'rasponov': {'words': 28, 'i_words': 2, 'num_tweets': 1}, 'just_alish': {'words': 5, 'num_tweets': 1}, 'pink0uh': {'words': 21, 'i_words': 2, 'num_tweets': 1}, 'janek_fox': {'words': 9, 'num_tweets': 1}, 'simon_word': {'words': 1836, 'i_words': 45, 'you_words': 5, 'we_words': 9, 'num_tweets': 87}, 'mrmakkellb': {'words': 25, 'i_words': 1, 'num_tweets': 1}, 'elmemax2': {'words': 24, 'we_words': 1, 'num_tweets': 2}, 'filippecak': {'words': 28, 'i_words': 1, 'num_tweets': 1}, 'gourune_': {'words': 28, 'num_tweets': 1}, 'u_yousolame': {'words': 28, 'i_words': 2, 'num_tweets': 1}, 'time5747': {'words': 15, 'we_words': 1, 'num_tweets': 1}, 'some1_peculiar': {'words': 29, 'i_words': 3, 'num_tweets': 1}, 'crazycold739': {'words': 51, 'i_words': 3, 'num_tweets': 2}, 'ritzin3': {'words': 2, 'num_tweets': 1}, 'facikwacik': {'words': 18, 'num_tweets': 3}, 'zsteck2240': {'words': 21, 'num_tweets': 1}, 'miriplazafn': {'words': 2, 'num_tweets': 1}, 'coffegrand': {'words': 14, 'we_words': 1, 'num_tweets': 1}, 'reubendollmanyt': {'words': 24, 'i_words': 1, 'num_tweets': 1}, 'allenro59644402': {'words': 28, 'i_words': 1, 'num_tweets': 1}, 'cryoteros': {'words': 21, 'num_tweets': 1}, 'shrekmyfriend': {'words': 7, 'num_tweets': 1}, 'ognik11': {'words': 26, 'num_tweets': 1}, 'leona__450': {'words': 25, 'i_words': 1, 'num_tweets': 1}, 'mrmars222': {'words': 21, 'i_words': 1, 'num_tweets': 1}, 'bum92508512': {'words': 11, 'num_tweets': 1}, 'babyyfrog_': {'words': 17, 'you_words': 1, 'num_tweets': 1}, 'igor22821195': {'words': 10, 'num_tweets': 1}, 'boomboombram': {'words': 11, 'num_tweets': 1}, 'frankseneck': {'words': 8, 'num_tweets': 1}, 'chileanfemboy1': {'words': 7, 'num_tweets': 1}, 'anev83356030': {'words': 8, 'num_tweets': 1}, 'ohyeahmia3': {'words': 31, 'i_words': 2, 'you_words': 1, 'num_tweets': 1}, 'gabrielchishol5': {'words': 14, 'num_tweets': 1}, 'fedor46811681': {'words': 22, 'i_words': 1, 'we_words': 1, 'num_tweets': 1}, 'peeblor': {'words': 25, 'i_words': 1, 'num_tweets': 1}, 'tylerfortnitesx': {'words': 15, 'num_tweets': 1}, 'kattoshi14': {'words': 28, 'i_words': 1, 'num_tweets': 1}, 'ishipaelmaldito': {'words': 6, 'num_tweets': 1}, 'prajzaa': {'words': 7, 'num_tweets': 1}, 'boxv88': {'words': 29, 'i_words': 1, 'num_tweets': 1}, 'thewellclub': {'words': 23, 'num_tweets': 1}, 'kingofgeeks1994': {'words': 14, 'num_tweets': 1}, 'elfhirton1': {'words': 29, 'i_words': 1, 'num_tweets': 1}, 'nukeuak': {'words': 7, 'num_tweets': 1}, 'spoof_king': {'words': 27, 'i_words': 1, 'num_tweets': 1}, 'yishayak': {'words': 17, 'num_tweets': 1}, 'fanmakesart_': {'words': 16, 'i_words': 1, 'num_tweets': 1}, 'murathet': {'words': 27, 'num_tweets': 1}, 'localfatgamer1': {'words': 28, 'i_words': 1, 'num_tweets': 2}, 'mathtriqueur': {'words': 39, 'i_words': 4, 'num_tweets': 2}, '7gamerx15': {'words': 1, 'num_tweets': 1}, 'topmok': {'words': 11, 'you_words': 1, 'num_tweets': 1}, 'kijuler': {'words': 26, 'num_tweets': 1}, 'manugtrf': {'words': 12, 'num_tweets': 1}, 'martn69242': {'words': 48, 'num_tweets': 2}, 'yupie_12': {'words': 29, 'i_words': 3, 'num_tweets': 1}, 'hell0hd': {'words': 2, 'num_tweets': 1}, 'julianmazzuca': {'words': 11, 'num_tweets': 1}, 'dawudawudawuda': {'words': 1, 'num_tweets': 1}, 'bswagolini': {'words': 26, 'i_words': 1, 'num_tweets': 2}, 'toto_geenen': {'words': 660, 'i_words': 17, 'we_words': 2, 'num_tweets': 39}, 'ntexttospeechtv': {'words': 8, 'num_tweets': 1}, 'razorrboxcutter': {'words': 5, 'num_tweets': 1}, 'jesus18216111': {'words': 3, 'num_tweets': 1}, 'wixxarion': {'words': 4, 'num_tweets': 1}, 'bernsteinluchs_': {'words': 48, 'i_words': 3, 'you_words': 1, 'num_tweets': 2}, 'stupidslowking': {'words': 28, 'i_words': 1, 'num_tweets': 1}, 'badaabing_de': {'words': 22, 'num_tweets': 1}, 'birbbrain2': {'words': 22, 'num_tweets': 1}, 'gait15002135': {'words': 7, 'num_tweets': 1}, 'fojtikvitek': {'words': 24, 'i_words': 2, 'num_tweets': 1}, 'thewogbe': {'words': 27, 'i_words': 2, 'num_tweets': 1}, 'mrchips63038060': {'words': 21, 'num_tweets': 2}, 'seriel18': {'words': 74, 'i_words': 4, 'num_tweets': 3}, 'n0lansn': {'words': 10, 'num_tweets': 1}, 'penalozalao': {'words': 65, 'num_tweets': 4}, 'casimiroxd2004': {'words': 12, 'i_words': 1, 'num_tweets': 1}, 'adam96557402': {'words': 4, 'num_tweets': 1}, 'system64exe': {'words': 17, 'we_words': 2, 'num_tweets': 1}, 'lostugandansong': {'words': 2, 'num_tweets': 1}, 'anonymous88895': {'words': 26, 'num_tweets': 6}, 'thee_kopje': {'words': 7, 'num_tweets': 1}, 'tomassburack_': {'words': 30, 'i_words': 3, 'num_tweets': 1}, 'robertillman': {'words': 29, 'num_tweets': 1}, 'andrew_laskin': {'words': 9, 'num_tweets': 1}, 'basicpork': {'words': 27, 'i_words': 1, 'num_tweets': 1}, 'kellythesfmer': {'words': 26, 'num_tweets': 1}, 'mrgameandplay2': {'words': 24, 'num_tweets': 1}, 'agorikroll': {'words': 27, 'num_tweets': 1}, 'doce171': {'words': 2, 'num_tweets': 1}, 'seeya_le': {'words': 27, 'num_tweets': 1}, 'chechechara': {'words': 26, 'i_words': 1, 'num_tweets': 1}, 'mr_cockx': {'words': 27, 'i_words': 1, 'num_tweets': 1}, 'defelzz': {'words': 18, 'num_tweets': 2}, 'henriknotjimi': {'words': 11, 'num_tweets': 1}, 'botorx9': {'words': 26, 'we_words': 1, 'num_tweets': 1}, 'okaywegood': {'words': 86, 'i_words': 2, 'we_words': 2, 'num_tweets': 3}, 'glacialgrater': {'words': 27, 'i_words': 2, 'num_tweets': 1}, 'itsyaboimason1': {'words': 22, 'you_words': 1, 'num_tweets': 1}, 'kras083': {'words': 4, 'num_tweets': 1}, 'adimadlad': {'words': 15, 'you_words': 2, 'num_tweets': 1}, 'melvin8d': {'words': 18, 'num_tweets': 2}, 'bamitzevil': {'words': 7, 'num_tweets': 1}, 'osielmz': {'words': 4, 'num_tweets': 1}, 'trigu999': {'words': 8, 'num_tweets': 1}, 'heman0k': {'words': 4, 'num_tweets': 1}, 'balriam': {'words': 2, 'num_tweets': 1}, 'deku_phazon': {'words': 25, 'num_tweets': 1}, 'scouttf219': {'words': 29, 'you_words': 1, 'num_tweets': 1}, 'aducknamedlucas': {'words': 26, 'num_tweets': 1}, 'sulkiscord': {'words': 68, 'num_tweets': 3}, '3rd_lib': {'words': 7, 'num_tweets': 1}, 'akira2nm': {'words': 25, 'num_tweets': 1}, 'mateusz91495562': {'words': 18, 'num_tweets': 1}, 'mynameisnotyo19': {'words': 10, 'num_tweets': 2}, 'thatguy56039387': {'words': 34, 'i_words': 1, 'we_words': 1, 'num_tweets': 2}, 'veteran_dino': {'words': 8, 'i_words': 1, 'num_tweets': 1}, 'therbxcommunity': {'words': 5, 'num_tweets': 1}, 'haha_this_isme': {'words': 3, 'num_tweets': 1}, 'henry58269953': {'words': 35, 'i_words': 1, 'we_words': 1, 'num_tweets': 1}, 'fnafowiec1': {'words': 15, 'num_tweets': 1}, 'coolguy77773108': {'words': 13, 'i_words': 1, 'num_tweets': 2}, 'finnthelackey': {'words': 35, 'i_words': 1, 'we_words': 1, 'num_tweets': 1}, 'selfiefox': {'words': 29, 'i_words': 3, 'num_tweets': 1}, 'subject_dim': {'words': 35, 'i_words': 1, 'we_words': 1, 'num_tweets': 1}, 'cogneeto0': {'words': 35, 'i_words': 1, 'we_words': 1, 'num_tweets': 1}, 'emanueljdv34': {'words': 35, 'i_words': 1, 'we_words': 1, 'num_tweets': 1}, 'kobazinsan': {'words': 35, 'i_words': 1, 'we_words': 1, 'num_tweets': 1}, 'vicevulkrean': {'words': 21, 'num_tweets': 1}, 'aemoment1': {'words': 8, 'i_words': 1, 'num_tweets': 1}, 'chuvithe': {'words': 7, 'num_tweets': 1}, '1spinola': {'words': 6, 'num_tweets': 1}, 'kasd0r': {'words': 34, 'num_tweets': 2}, 'fucktw1tterlmao': {'words': 21, 'num_tweets': 1}, 'chrisyolomoney': {'words': 24, 'num_tweets': 1}, 'the45ishere': {'words': 35, 'i_words': 1, 'we_words': 1, 'num_tweets': 1}, 'thesilent_hero': {'words': 30, 'i_words': 2, 'num_tweets': 1}, 'tylerzachary22': {'words': 29, 'i_words': 1, 'num_tweets': 1}, 'shirt_2': {'words': 30, 'i_words': 1, 'num_tweets': 1}, 'sarmatamlodyg': {'words': 2, 'num_tweets': 1}, 'droideka_exe': {'words': 59, 'you_words': 1, 'num_tweets': 3}, 'pacusito2': {'words': 19, 'num_tweets': 1}, 'cai_zerox': {'words': 35, 'i_words': 1, 'we_words': 1, 'num_tweets': 1}, 'symnesiac': {'words': 34, 'num_tweets': 1}, 'tyton_w_kubku': {'words': 32, 'num_tweets': 1}, 'jackson28976936': {'words': 8, 'i_words': 1, 'num_tweets': 1}, 'elijaht48169726': {'words': 27, 'num_tweets': 1}, 'upyment': {'words': 35, 'i_words': 1, 'we_words': 1, 'num_tweets': 1}, 'blassu3': {'words': 53, 'num_tweets': 2}, 'rpcgamingg': {'words': 10, 'num_tweets': 1}, 'rabdiavoy_xt': {'words': 21, 'i_words': 1, 'you_words': 2, 'we_words': 1, 'num_tweets': 1}, 'gaminggavin2020': {'words': 13, 'num_tweets': 1}, 'noobjew666': {'words': 13, 'num_tweets': 1}, 'dracoshroobrc': {'words': 26, 'i_words': 1, 'num_tweets': 1}, 'local_jackass': {'words': 25, 'i_words': 1, 'num_tweets': 1}, 'wynnefox': {'words': 27, 'num_tweets': 1}, 'airconditiner5': {'words': 10, 'num_tweets': 1}, 'faddwini': {'words': 13, 'num_tweets': 1}, 'iyysakk': {'words': 6, 'we_words': 1, 'num_tweets': 1}, 'mrdarwisygaming': {'words': 4, 'num_tweets': 1}, 'chidogamer2': {'words': 10, 'num_tweets': 1}, 'kopikatzz': {'words': 29, 'i_words': 1, 'num_tweets': 1}, 'konobatom': {'words': 15, 'num_tweets': 1}, 'iikingstan': {'words': 31, 'i_words': 2, 'num_tweets': 1}, 'alexgameover_13': {'words': 35, 'i_words': 1, 'we_words': 1, 'num_tweets': 1}, 'typingandwiping': {'words': 22, 'num_tweets': 1}, 'cactuskur': {'words': 9, 'num_tweets': 1}, 'tclegacy06': {'words': 5, 'num_tweets': 1}, 'had3s_drown': {'words': 35, 'i_words': 1, 'we_words': 1, 'num_tweets': 1}, 'official_psasd': {'words': 35, 'i_words': 1, 'we_words': 1, 'num_tweets': 1}, 'jinahope1': {'words': 4, 'num_tweets': 1}, 'elijah88181326': {'words': 25, 'num_tweets': 2}, 'ace61077009': {'words': 26, 'i_words': 1, 'you_words': 1, 'we_words': 1, 'num_tweets': 1}, 'psych0ghoul': {'words': 30, 'num_tweets': 1}, 'phoenix_hx': {'words': 35, 'i_words': 1, 'we_words': 1, 'num_tweets': 1}, 'potatodraws55': {'words': 29, 'num_tweets': 1}, 'imlostatthemall': {'words': 30, 'num_tweets': 1}, 'chima9000': {'words': 4, 'num_tweets': 1}, 'yellowsubmsrine': {'words': 47, 'we_words': 1, 'num_tweets': 3}, 'majounlimited': {'words': 13, 'num_tweets': 1}, 'coolgamerbro650': {'words': 35, 'i_words': 1, 'we_words': 1, 'num_tweets': 1}, 'doverstwt': {'words': 2, 'num_tweets': 1}, 'davidho10673262': {'words': 14, 'num_tweets': 1}, 'halve_11': {'words': 8, 'num_tweets': 1}, 'mechanicalmagi3': {'words': 10, 'we_words': 1, 'num_tweets': 1}, 'creative0name': {'words': 10, 'i_words': 1, 'num_tweets': 1}, 'cosmosgalaxia': {'words': 27, 'num_tweets': 1}, 'gustavofritz15': {'words': 51, 'num_tweets': 3}, 'xenogenicyt': {'words': 29, 'we_words': 1, 'num_tweets': 1}, 'undercover1055': {'words': 42, 'you_words': 1, 'we_words': 1, 'num_tweets': 3}, 'vtrjex': {'words': 27, 'i_words': 2, 'num_tweets': 1}, 'limpshrimp42': {'words': 20, 'num_tweets': 1}, 'joseflo09807450': {'words': 7, 'num_tweets': 1}, 'lehonkey': {'words': 7, 'num_tweets': 1}, 'jose51403279': {'words': 1, 'num_tweets': 1}, 'ohgaryboi': {'words': 2, 'num_tweets': 1}, 'rompopevp': {'words': 33, 'num_tweets': 1}, 'resteria27': {'words': 23, 'num_tweets': 1}, 'hassan60831535': {'words': 25, 'num_tweets': 1}, '_retkid_': {'words': 4, 'num_tweets': 1}, 'thejxr1': {'words': 35, 'num_tweets': 2}, 'r0ch4glz': {'words': 33, 'num_tweets': 1}, 'killtime01': {'words': 31, 'i_words': 1, 'num_tweets': 1}, 'naofumi26255364': {'words': 27, 'i_words': 1, 'num_tweets': 1}, 'longrangedog': {'words': 16, 'num_tweets': 1}, 'selevfour': {'words': 17, 'num_tweets': 1}, 'tvrk777': {'words': 4, 'num_tweets': 1}, 'jugadordepley3': {'words': 5, 'num_tweets': 1}, 'oscar_klppr': {'words': 9, 'num_tweets': 1}, 'iberrykarsen': {'words': 25, 'num_tweets': 1}, 'dude_stay': {'words': 54, 'num_tweets': 3}, 'geekgem1': {'words': 26, 'num_tweets': 1}, 'amarillitadaira': {'words': 30, 'num_tweets': 1}, 'velentine__': {'words': 33, 'num_tweets': 1}, 'taunt_yt': {'words': 13, 'num_tweets': 1}, 'zzauza': {'words': 63, 'num_tweets': 1}, 'nathaniel165579': {'words': 35, 'i_words': 1, 'we_words': 1, 'num_tweets': 1}, 'browy01': {'words': 3, 'num_tweets': 1}, 'iamcoolinnit': {'words': 17, 'num_tweets': 1}, 'whipeeeee': {'words': 2, 'num_tweets': 1}, 'dejdothecringe': {'words': 31, 'i_words': 1, 'you_words': 1, 'we_words': 3, 'num_tweets': 1}, 'daniel_joestarr': {'words': 11, 'num_tweets': 2}, 'nutzoze': {'words': 28, 'i_words': 1, 'num_tweets': 1}, 'flettive': {'words': 20, 'you_words': 1, 'num_tweets': 1}, 'paulussoler': {'words': 27, 'num_tweets': 2}, 'yauntihunter': {'words': 33, 'i_words': 2, 'num_tweets': 1}, 'mnightangle': {'words': 35, 'i_words': 1, 'we_words': 1, 'num_tweets': 1}, 'sir_pew_pew_pew': {'words': 1, 'num_tweets': 1}, 'fazbear38': {'words': 1, 'num_tweets': 1}, 'dedoubleyouel': {'words': 28, 'i_words': 3, 'num_tweets': 1}, 'maddindono': {'words': 29, 'i_words': 3, 'num_tweets': 1}, '300gprotein': {'words': 30, 'i_words': 1, 'num_tweets': 1}, 'cedricolly1': {'words': 30, 'num_tweets': 2}, 'sirhydee': {'words': 13, 'num_tweets': 1}, 'lambdagenposts': {'words': 22, 'num_tweets': 1}, 'kronas_': {'words': 5, 'num_tweets': 1}, 'beholdtheimp': {'words': 5, 'num_tweets': 1}, 'ffarquhard': {'words': 24, 'i_words': 1, 'num_tweets': 1}, 'northwestrdude': {'words': 25, 'i_words': 1, 'num_tweets': 1}, 'cheese_manss': {'words': 5, 'num_tweets': 1}, 'stanek21111': {'words': 35, 'i_words': 1, 'we_words': 1, 'num_tweets': 1}, 'josh47157753': {'words': 33, 'i_words': 2, 'num_tweets': 1}, 'kapikropi': {'words': 3, 'num_tweets': 1}, 'victorwallec': {'words': 332, 'i_words': 1, 'you_words': 1, 'we_words': 2, 'num_tweets': 17}, 'derdiedasjan136': {'words': 25, 'we_words': 1, 'num_tweets': 1}, 'ciejezus': {'words': 17, 'i_words': 1, 'num_tweets': 1}, 'zoomviex': {'words': 6, 'num_tweets': 1}, 'pogo_the_goat': {'words': 28, 'you_words': 1, 'we_words': 1, 'num_tweets': 1}, 'bombineer': {'words': 28, 'num_tweets': 1}, 'jjjjjjatr': {'words': 10, 'num_tweets': 1}, 'srechna1': {'words': 15, 'num_tweets': 1}, 'redsoney': {'words': 37, 'num_tweets': 1}, 'amonix_ghost': {'words': 4, 'num_tweets': 1}, 'steinerteddylp': {'words': 4, 'num_tweets': 1}, 'aquaintlad': {'words': 23, 'num_tweets': 1}, 'bjorngomes': {'words': 23, 'i_words': 1, 'num_tweets': 1}, 'general5345': {'words': 2, 'num_tweets': 1}, 'kenz__val': {'words': 8, 'num_tweets': 1}, 'dialga22239': {'words': 29, 'i_words': 2, 'num_tweets': 1}, 'janpen_8': {'words': 30, 'i_words': 2, 'num_tweets': 1}, 'hanz_jon': {'words': 30, 'we_words': 1, 'num_tweets': 1}, 'jokertn84': {'words': 4, 'num_tweets': 1}, 'benben377': {'words': 33, 'i_words': 2, 'num_tweets': 1}, 'noshowmichelle': {'words': 15, 'we_words': 1, 'num_tweets': 1}, 'turtlententacle': {'words': 35, 'i_words': 1, 'we_words': 1, 'num_tweets': 1}, 'consta_lume': {'words': 21, 'num_tweets': 1}, 'l_luna_1998': {'words': 21, 'num_tweets': 1}, 'jamesmarshallha': {'words': 21, 'num_tweets': 1}, 'bettercallheis': {'words': 21, 'num_tweets': 1}, 'ariethefloof': {'words': 17, 'num_tweets': 2}, 'shorktf2': {'words': 33, 'i_words': 1, 'we_words': 1, 'num_tweets': 1}, 'savetf2archive': {'words': 35, 'i_words': 1, 'we_words': 1, 'num_tweets': 1}, 'benjami02273209': {'words': 1, 'num_tweets': 1}, 'voronoir_': {'words': 11, 'num_tweets': 1}, 'piedrapreciosa3': {'words': 1, 'num_tweets': 1}, 'matienk0': {'words': 29, 'i_words': 2, 'you_words': 1, 'we_words': 1, 'num_tweets': 1}, 'mrluckymen': {'words': 7, 'you_words': 1, 'we_words': 1, 'num_tweets': 1}, 'aquarioce': {'words': 24, 'i_words': 2, 'num_tweets': 1}, 'maximoh52085382': {'words': 4, 'num_tweets': 1}, 'osoponso': {'words': 37, 'num_tweets': 2}, 'albertho271': {'words': 41, 'num_tweets': 2}, 'redlix_tf': {'words': 9, 'num_tweets': 1}, 'antonyedgy': {'words': 15, 'num_tweets': 3}, 'casffles': {'words': 1, 'num_tweets': 1}, 'nyahnyahnikkini': {'words': 32, 'i_words': 2, 'num_tweets': 1}, 'ggooober': {'words': 60, 'i_words': 3, 'num_tweets': 2}, 'mickspy': {'words': 25, 'i_words': 1, 'num_tweets': 1}, 'hellkaiser39': {'words': 6, 'num_tweets': 1}, 'saltlessrice': {'words': 1, 'num_tweets': 1}, 'tvoi_fanat_': {'words': 27, 'num_tweets': 1}, 'rafael11479': {'words': 17, 'num_tweets': 1}, 'vfernandocc': {'words': 22, 'num_tweets': 1}, 'jeagle_g': {'words': 23, 'num_tweets': 1}, 'matiasg63546095': {'words': 4, 'num_tweets': 1}, 'superyeet8': {'words': 1, 'num_tweets': 1}, 'riotabsolute': {'words': 4, 'num_tweets': 1}, 'adamjridding': {'words': 10, 'num_tweets': 1}, 'jadechar1': {'words': 6, 'num_tweets': 1}, 'rednayru_': {'words': 10, 'we_words': 1, 'num_tweets': 1}, 'azybuhaev': {'words': 80, 'num_tweets': 1}, 'belorusian': {'words': 143, 'i_words': 1, 'you_words': 1, 'num_tweets': 2}, 'golperandom': {'words': 5, 'num_tweets': 1}, 'antonbivis': {'words': 6, 'i_words': 1, 'num_tweets': 1}, 'philippepaliss1': {'words': 4, 'num_tweets': 1}, 'anvitzinsfw': {'words': 28, 'i_words': 1, 'num_tweets': 1}, 'mateogarciagon5': {'words': 30, 'i_words': 1, 'num_tweets': 1}, 'softecarly': {'words': 27, 'i_words': 2, 'num_tweets': 1}, 'davifer88178981': {'words': 27, 'i_words': 2, 'num_tweets': 1}, '221cmori': {'words': 27, 'i_words': 2, 'num_tweets': 1}, 'mnk91145275': {'words': 5, 'i_words': 1, 'num_tweets': 1}, 'plauk_sy': {'words': 2, 'num_tweets': 1}, 'adi_wolny': {'words': 4, 'num_tweets': 1}, 'terminaitorr79': {'words': 26, 'num_tweets': 1}, 'mstepann': {'words': 15, 'num_tweets': 1}, 'the_short_cat': {'words': 3, 'num_tweets': 1}, 'catboyfisky': {'words': 26, 'i_words': 1, 'num_tweets': 1}, 'andrewer041': {'words': 1, 'num_tweets': 1}, 'commandercinth': {'words': 27, 'i_words': 2, 'num_tweets': 1}, 'jebbidan': {'words': 19, 'we_words': 1, 'num_tweets': 1}, 'fooled_frog': {'words': 24, 'i_words': 2, 'num_tweets': 1}, 'midget_mallow': {'words': 27, 'i_words': 2, 'num_tweets': 1}, 'hotgrossdog': {'words': 9, 'num_tweets': 1}, 'kite__': {'words': 12, 'num_tweets': 1}, 'karmaobviously': {'words': 29, 'i_words': 1, 'num_tweets': 1}, 'jojo21762493': {'words': 2, 'num_tweets': 1}, 'corytech08': {'words': 12, 'num_tweets': 1}, 'rafapedr0': {'words': 20, 'num_tweets': 1}, 'castlevaniax007': {'words': 28, 'num_tweets': 1}, 'destivcx': {'words': 4, 'num_tweets': 1}, 'knightspy3': {'words': 32, 'i_words': 1, 'num_tweets': 1}, 'macqueenomoruyi': {'words': 21, 'num_tweets': 1}, 'esteven_alvarez': {'words': 21, 'num_tweets': 1}, 'felipinkho1': {'words': 24, 'num_tweets': 1}, 'trendingvidatm': {'words': 11, 'num_tweets': 1}, 'gameremirhan1': {'words': 2, 'num_tweets': 1}, 'ponurywieloryb': {'words': 29, 'num_tweets': 1}, 'benscrafts1234': {'words': 4, 'num_tweets': 1}, 'conehea64458249': {'words': 1, 'num_tweets': 1}, 'yumyum34788471': {'words': 4, 'num_tweets': 1}, 'vcserhomo': {'words': 31, 'num_tweets': 1}, 'simarpa46498576': {'words': 1, 'num_tweets': 1}, 'nawaminsiam': {'words': 18, 'num_tweets': 1}, 'geekomancer': {'words': 21, 'num_tweets': 1}, 'sammiboiiii': {'words': 1, 'num_tweets': 1}, 'bulletking61': {'words': 3, 'num_tweets': 1}, 'mx_hippakrit': {'words': 14, 'i_words': 2, 'num_tweets': 1}, 'shers_wird_stuf': {'words': 30, 'i_words': 4, 'num_tweets': 1}, 'fastblueapple9': {'words': 31, 'i_words': 4, 'num_tweets': 1}, 'centurionfox': {'words': 22, 'num_tweets': 1}}\n"
     ]
    }
   ],
   "source": [
    "def count_dictionary(persons):\n",
    "    count = 0\n",
    "    for key, value in persons.items():\n",
    "        count += value\n",
    "    print(count)\n",
    "\n",
    "def print_max(persons):\n",
    "    max_word = max(persons, key=persons.get)\n",
    "    print(max_word)\n",
    "    print(persons[max_word])\n",
    "\n",
    "# Analyze the network\n",
    "I_words = [\"i\", \"me\", \"my\", \"mine\"]\n",
    "you_words = [\"you\", \"yours\"]\n",
    "we_words = [\"we\", \"us\", \"our\", \"ours\"]\n",
    "\n",
    "# Calculate per person\n",
    "persons_i_words = dict()\n",
    "persons_you_words = dict()\n",
    "persons_we_words = dict()\n",
    "tweets_person = dict()\n",
    "words_person = dict()\n",
    "for index, row in df.iterrows():\n",
    "    # count tweets per person\n",
    "    tweets_person[row['source_user']] = tweets_person.get(row['source_user'], 0) + 1\n",
    "    \n",
    "    #split the text on punctuation. \n",
    "    split_text = re.split(r'[,;!?:\" .\\']', row['tweet_text'])\n",
    "    for word in split_text:\n",
    "        # count words per person\n",
    "        words_person[row['source_user']] = words_person.get(row['source_user'], 0) + 1\n",
    "        \n",
    "        # count i/you/we words per person\n",
    "        if word.lower() == 'i':\n",
    "            persons_i_words[row['source_user']] = persons_i_words.get(row['source_user'], 0) + 1\n",
    "        elif word.lower() == 'you':\n",
    "            persons_you_words[row['source_user']] = persons_you_words.get(row['source_user'], 0) + 1\n",
    "        elif word.lower() == 'we':\n",
    "            persons_we_words[row['source_user']] = persons_we_words.get(row['source_user'], 0) + 1\n",
    "\n",
    "#print(num_tweets_person_tweets_person)\n",
    "print_max(persons_i_words)\n",
    "print_max(persons_you_words)\n",
    "print_max(persons_we_words)\n",
    "\n",
    "# Generate one complete dictionary\n",
    "complete_person = dict()\n",
    "for person, value in words_person.items():\n",
    "    complete_person[person] = {}\n",
    "    complete_person[person]['words'] = value\n",
    "\n",
    "for person, value in persons_i_words.items():\n",
    "    complete_person[person]['i_words'] = value\n",
    "for person, value in persons_you_words.items():\n",
    "    complete_person[person]['you_words'] = value\n",
    "for person, value in persons_we_words.items():\n",
    "    complete_person[person]['we_words'] = value\n",
    "for person, value in tweets_person.items():\n",
    "    complete_person[person]['num_tweets'] = value\n",
    "\n",
    "print(complete_person)"
   ]
  },
  {
   "cell_type": "code",
   "execution_count": null,
   "metadata": {
    "pycharm": {
     "name": "#%%\n"
    }
   },
   "outputs": [],
   "source": [
    "plt.figure(figsize=(20, 20), dpi= 200)\n",
    "nx.draw_networkx(G= G, edge_color=colors, node_color=node_colors, with_labels=False)"
   ]
  },
  {
   "cell_type": "code",
   "execution_count": null,
   "metadata": {
    "pycharm": {
     "name": "#%%\n"
    }
   },
   "outputs": [],
   "source": []
  }
 ],
 "metadata": {
  "kernelspec": {
   "display_name": "Python 3 (ipykernel)",
   "language": "python",
   "name": "python3"
  },
  "language_info": {
   "codemirror_mode": {
    "name": "ipython",
    "version": 3
   },
   "file_extension": ".py",
   "mimetype": "text/x-python",
   "name": "python",
   "nbconvert_exporter": "python",
   "pygments_lexer": "ipython3",
   "version": "3.8.5"
  }
 },
 "nbformat": 4,
 "nbformat_minor": 1
}
