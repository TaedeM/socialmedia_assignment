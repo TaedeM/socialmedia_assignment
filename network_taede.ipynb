{
 "cells": [
  {
   "cell_type": "code",
   "execution_count": 47,
   "metadata": {
    "pycharm": {
     "name": "#%%\n"
    }
   },
   "outputs": [],
   "source": [
    "import networkx as nx\n",
    "import pandas as pd\n",
    "import matplotlib.pyplot as plt\n",
    "import numpy as np\n",
    "import matplotlib.colors as mcolors\n",
    "import matplotlib.cm as cm\n",
    "import matplotlib\n",
    "import re"
   ]
  },
  {
   "cell_type": "code",
   "execution_count": 48,
   "metadata": {
    "pycharm": {
     "name": "#%%\n"
    }
   },
   "outputs": [
    {
     "name": "stdout",
     "output_type": "stream",
     "text": [
      "         source_user   mentioned_user  \\\n",
      "0           notherle        dude_stay   \n",
      "1           notherle       facikwacik   \n",
      "2           notherle     crazycold739   \n",
      "3           notherle       filippecak   \n",
      "4           notherle      u_yousolame   \n",
      "..               ...              ...   \n",
      "842     bulletking61     bulletking61   \n",
      "843     mx_hippakrit     mx_hippakrit   \n",
      "844  shers_wird_stuf  shers_wird_stuf   \n",
      "845   fastblueapple9  shers_wird_stuf   \n",
      "846     centurionfox            steam   \n",
      "\n",
      "                                            tweet_text  \n",
      "0    RT @dude_stay: Plz help us save the this game ...  \n",
      "1    RT @FacikWacik: My favorite game is dying ????...  \n",
      "2    RT @CraZyCold739: I associate with this game n...  \n",
      "3    RT @FilipPecak: Hi people. Let's save #SafeTF2...  \n",
      "4    RT @u_yousolame: I been playing tf2 for a few ...  \n",
      "..                                                 ...  \n",
      "842              #SafeTF2  PLZZZZZZZZZZZZZZZZZZZZZZZZZ  \n",
      "843  I know I'm late for this but #SafeTF2 (':\\n\\nh...  \n",
      "844  I know Im maybe late, but I dont care, I lov...  \n",
      "845  RT @Shers_wird_stuf: I know Im maybe late, bu...  \n",
      "846  @Steam Every time steam or valve posts somethi...  \n",
      "\n",
      "[847 rows x 3 columns]\n"
     ]
    }
   ],
   "source": [
    "filepath = './tweets.csv'\n",
    "\n",
    "df = pd.read_csv(filepath, delimiter=',',\n",
    "                skiprows=1, # skips the first line of the file\n",
    "                encoding='unicode_escape', # prevents errors on unknown symbols\n",
    "                usecols=['Vertex 1', 'Vertex 2', 'Tweet'], # only import the columns we use\n",
    "                )\n",
    "df.columns = ['source_user', 'mentioned_user', 'tweet_text']\n",
    "\n",
    "print(df)"
   ]
  },
  {
   "cell_type": "code",
   "execution_count": 49,
   "metadata": {
    "pycharm": {
     "name": "#%%\n"
    }
   },
   "outputs": [],
   "source": [
    "# add nodes? first export df to list/dictionary then transform? or easier way?"
   ]
  },
  {
   "cell_type": "code",
   "execution_count": 50,
   "metadata": {
    "pycharm": {
     "name": "#%%\n"
    }
   },
   "outputs": [
    {
     "name": "stdout",
     "output_type": "stream",
     "text": [
      "344\n"
     ]
    }
   ],
   "source": [
    "G = nx.DiGraph()\n",
    "colors = []\n",
    "for source_user, mentioned_user, tweet_text in zip(df.source_user, df.mentioned_user, df.tweet_text):\n",
    "\n",
    "    if source_user != mentioned_user:\n",
    "        G.add_edge(source_user, mentioned_user)\n",
    "        if \"RT\" in tweet_text[:3]:\n",
    "            colors.append(\"black\")\n",
    "        else:\n",
    "            colors.append(\"red\")\n",
    "\n",
    "node_colors = np.arange(0.0, 1.0, 1/G.number_of_nodes())\n",
    "print(len(node_colors))"
   ]
  },
  {
   "cell_type": "code",
   "execution_count": 51,
   "metadata": {
    "pycharm": {
     "name": "#%%\n"
    }
   },
   "outputs": [
    {
     "data": {
      "text/plain": [
       "344"
      ]
     },
     "execution_count": 51,
     "metadata": {},
     "output_type": "execute_result"
    }
   ],
   "source": [
    "G.number_of_nodes()"
   ]
  },
  {
   "cell_type": "code",
   "execution_count": 52,
   "metadata": {
    "pycharm": {
     "name": "#%%\n"
    }
   },
   "outputs": [
    {
     "data": {
      "text/plain": [
       "434"
      ]
     },
     "execution_count": 52,
     "metadata": {},
     "output_type": "execute_result"
    }
   ],
   "source": [
    "G.number_of_edges()"
   ]
  },
  {
   "cell_type": "code",
   "execution_count": 53,
   "metadata": {
    "pycharm": {
     "name": "#%%\n"
    }
   },
   "outputs": [],
   "source": [
    "measures = {\"centrality\": {'in_degree': nx.in_degree_centrality(G), 'out_degree': nx.out_degree_centrality(G),\n",
    "                           'betweenness': nx.betweenness_centrality(G), 'closeness': nx.closeness_centrality(G)}}\n",
    "out_degrees = []\n",
    "for key, value in nx.out_degree_centrality(G).items():\n",
    "    out_degrees.append(value)\n",
    "\n",
    "minima = min(out_degrees)\n",
    "maxima = max(out_degrees)\n",
    "\n",
    "norm = matplotlib.colors.Normalize(vmin=minima, vmax=maxima, clip=True)\n",
    "mapper = cm.ScalarMappable(norm=norm, cmap=cm.Greys_r)\n",
    "node_colors = []\n",
    "for v in out_degrees:\n",
    "    node_colors.append(mapper.to_rgba(v)[0])\n"
   ]
  },
  {
   "cell_type": "code",
   "execution_count": 73,
   "metadata": {},
   "outputs": [
    {
     "name": "stdout",
     "output_type": "stream",
     "text": [
      "simon_word\n",
      "45\n",
      "simon_word\n",
      "5\n",
      "simon_word\n",
      "9\n",
      "{'notherle': 234, 'joseeliansalva1': 1, 'williw80472984': 28, 'margisstupid': 27, 'wisco1180': 27, 'alexsha71075971': 4, 'kubekposting': 12, 'edgaror37098062': 2, 'amoru01369152': 107, 'j__peg': 31, 'rainman50258089': 12, 'gd0ud': 31, 'rubysunseto': 31, 'isabourian': 21, 'snastheweirdone': 4, 'cyber_pixeeel': 27, '98tremor': 13, 'brahmfunny': 3, 'janekkotlet': 3, 'bananajon123': 2, 'ar4ys_': 32, 'tntast1': 14, 'moxxiesimp': 28, 'pannalesnik3': 17, 'aqua2701': 6, 'zack1764694126': 25, 'marcel25419707': 3, 'wallstreetkong': 1, 'h10ur_s': 12, 'smuwus': 1, 'stosin2': 5, 'navi1337_': 1, 'elian77808966': 27, '3ermundoman': 27, 'eppsnl': 50, 'roberteoidgaf': 24, 'patpol51444250': 25, 'wonter210': 4, 'tezeta54369292': 1, 'unfantasm': 4, 'postrome': 40, 'esmilios': 4, 'lautaro_prado6': 29, 'shockblaster1': 4, 'ghadiw_safetf2': 156, 'safiroanejo': 246, 'paquito_182': 9, 'rrijnwoude': 1, 'creeperking2002': 9, 'displume_': 3, 'vectus7': 245, 'shinyasshole': 28, 'iamexydis': 4, 'technowings2': 31, '_megacomet_': 31, 'matherook': 1, 'livsbian': 11, 'ray_404_2': 14, 'przemek92215723': 1, 'studiossylv': 15, 'stevemiaulol039': 12, 'xxrubensilva': 12, 'skanda1i5t': 23, 'l_i_x_e': 17, 'senpai_unknownr': 12, 'mor1nator': 33, 'pengpoii': 13, 'dekolo123': 74, 'toonblood': 25, 'hermmn_0': 72, 'i13thnightmarei': 29, 'aftunwilliam': 4, 'rynoscrap': 19, 'trippnichols4': 1, 'spqrlegionarius': 75, 'clmlfm': 9, 'forkstaf': 11, 'firebladeent': 14, 'fpieselek': 6, 'crimson_mayhem_': 26, 'ttcaptaingus': 26, 'rrinking': 33, 'acornrolluwu': 19, 'stupidcake17': 832, 'felipetweaks': 7, 'turgineer_': 25, 'bfullofmeat': 24, 'lemonade_raid': 27, 'fieldofsilly': 27, 'dioxazine12': 3, 'kryto34': 4, 'lildiesel5': 24, 'thegoddamnsky': 27, 'midnos14': 444, 'karmecld': 22, 'idiotxddd1': 10, 'whymemelord': 36, 'dawnmaskedguy': 26, 'harikacaner123': 20, 'mlpdisneylover': 26, 'thicc_viking': 26, 'lukas92690729': 25, 'matt_sumon': 26, 'nieswillsneeze': 28, 'dani751poland': 14, '333ajc2': 19, 'kosogore': 114, 'firearmleo28': 1, 'joaquinmaciel_': 2, 'jul4ncrazy': 2, 'lazycola_': 29, 'justtheking1667': 15, 'axel7243': 29, 'kmykolayovych': 10, 'sakurarozu': 56, 'number1player7': 1, 'korkiyes': 6, 'randytheloq': 29, 'lil_spaghettini': 1, 'ostlandjihad': 13, 'plzbanme': 31, 'ravagerorr': 33, 'hoovyman17': 22, 'yeimmeleehero': 29, 'memeego': 9, 'shopskib': 12, 'hoodiehoot': 5, 'moneyinflation': 4, 'vivar7axel': 28, 'inatinyhotel': 25, 'folyqe': 19, 'gamdadragonite': 26, 'jevilwastaken': 7, 'super_jillop': 1, 'hobozone_': 6, 'boflond': 28, 'hoody_chan2002': 25, 'deltaforcesreal': 17, 'darthvader_8888': 22, '1624the': 48, 'palabraprohibi': 15, '_nagarat_': 1, 'hellstar_rin': 33, 'dirakial': 12, 'justintrombitas': 131, 'khaki_jeanart': 90, 'themamng': 27, 'blackcorfield': 23, 'uvaverde_god': 197, 'celaear': 20, 'akowop': 10, 'archaicmodern': 58, 'mashupmixpro77': 2, 'realmatiaris': 7, 'rinsthighsaret1': 1, 'dylanithink_': 13, 'cheeseball3737': 1, 'ronaldocouves': 2, 'laugje1234': 1, 'valequla': 11, 'coneepic': 1, 'pedro_spiderman': 1, 'lpsslang2': 1, 'themisterdax': 22, 'realzachary0325': 1, 'wynndam1': 24, 'combensky': 4, 'potatowithsala1': 67, 'skelegummy': 25, 'theonlyp1fan': 28, 'kirakanofficial': 4, 'm4st3r_bl4z3': 26, 'brokeryann': 1, 'theromeroguy': 28, 'rasponov': 28, 'just_alish': 5, 'pink0uh': 21, 'janek_fox': 9, 'simon_word': 1836, 'mrmakkellb': 25, 'elmemax2': 24, 'filippecak': 28, 'gourune_': 28, 'u_yousolame': 28, 'time5747': 15, 'some1_peculiar': 29, 'crazycold739': 51, 'ritzin3': 2, 'facikwacik': 18, 'zsteck2240': 21, 'miriplazafn': 2, 'coffegrand': 14, 'reubendollmanyt': 24, 'allenro59644402': 28, 'cryoteros': 21, 'shrekmyfriend': 7, 'ognik11': 26, 'leona__450': 25, 'mrmars222': 21, 'bum92508512': 11, 'babyyfrog_': 17, 'igor22821195': 10, 'boomboombram': 11, 'frankseneck': 8, 'chileanfemboy1': 7, 'anev83356030': 8, 'ohyeahmia3': 31, 'gabrielchishol5': 14, 'fedor46811681': 22, 'peeblor': 25, 'tylerfortnitesx': 15, 'kattoshi14': 28, 'ishipaelmaldito': 6, 'prajzaa': 7, 'boxv88': 29, 'thewellclub': 23, 'kingofgeeks1994': 14, 'elfhirton1': 29, 'nukeuak': 7, 'spoof_king': 27, 'yishayak': 17, 'fanmakesart_': 16, 'murathet': 27, 'localfatgamer1': 28, 'mathtriqueur': 39, '7gamerx15': 1, 'topmok': 11, 'kijuler': 26, 'manugtrf': 12, 'martn69242': 48, 'yupie_12': 29, 'hell0hd': 2, 'julianmazzuca': 11, 'dawudawudawuda': 1, 'bswagolini': 26, 'toto_geenen': 660, 'ntexttospeechtv': 8, 'razorrboxcutter': 5, 'jesus18216111': 3, 'wixxarion': 4, 'bernsteinluchs_': 48, 'stupidslowking': 28, 'badaabing_de': 22, 'birbbrain2': 22, 'gait15002135': 7, 'fojtikvitek': 24, 'thewogbe': 27, 'mrchips63038060': 21, 'seriel18': 74, 'n0lansn': 10, 'penalozalao': 65, 'casimiroxd2004': 12, 'adam96557402': 4, 'system64exe': 17, 'lostugandansong': 2, 'anonymous88895': 26, 'thee_kopje': 7, 'tomassburack_': 30, 'robertillman': 29, 'andrew_laskin': 9, 'basicpork': 27, 'kellythesfmer': 26, 'mrgameandplay2': 24, 'agorikroll': 27, 'doce171': 2, 'seeya_le': 27, 'chechechara': 26, 'mr_cockx': 27, 'defelzz': 18, 'henriknotjimi': 11, 'botorx9': 26, 'okaywegood': 86, 'glacialgrater': 27, 'itsyaboimason1': 22, 'kras083': 4, 'adimadlad': 15, 'melvin8d': 18, 'bamitzevil': 7, 'osielmz': 4, 'trigu999': 8, 'heman0k': 4, 'balriam': 2, 'deku_phazon': 25, 'scouttf219': 29, 'aducknamedlucas': 26, 'sulkiscord': 68, '3rd_lib': 7, 'akira2nm': 25, 'mateusz91495562': 18, 'mynameisnotyo19': 10, 'thatguy56039387': 34, 'veteran_dino': 8, 'therbxcommunity': 5, 'haha_this_isme': 3, 'henry58269953': 35, 'fnafowiec1': 15, 'coolguy77773108': 13, 'finnthelackey': 35, 'selfiefox': 29, 'subject_dim': 35, 'cogneeto0': 35, 'emanueljdv34': 35, 'kobazinsan': 35, 'vicevulkrean': 21, 'aemoment1': 8, 'chuvithe': 7, '1spinola': 6, 'kasd0r': 34, 'fucktw1tterlmao': 21, 'chrisyolomoney': 24, 'the45ishere': 35, 'thesilent_hero': 30, 'tylerzachary22': 29, 'shirt_2': 30, 'sarmatamlodyg': 2, 'droideka_exe': 59, 'pacusito2': 19, 'cai_zerox': 35, 'symnesiac': 34, 'tyton_w_kubku': 32, 'jackson28976936': 8, 'elijaht48169726': 27, 'upyment': 35, 'blassu3': 53, 'rpcgamingg': 10, 'rabdiavoy_xt': 21, 'gaminggavin2020': 13, 'noobjew666': 13, 'dracoshroobrc': 26, 'local_jackass': 25, 'wynnefox': 27, 'airconditiner5': 10, 'faddwini': 13, 'iyysakk': 6, 'mrdarwisygaming': 4, 'chidogamer2': 10, 'kopikatzz': 29, 'konobatom': 15, 'iikingstan': 31, 'alexgameover_13': 35, 'typingandwiping': 22, 'cactuskur': 9, 'tclegacy06': 5, 'had3s_drown': 35, 'official_psasd': 35, 'jinahope1': 4, 'elijah88181326': 25, 'ace61077009': 26, 'psych0ghoul': 30, 'phoenix_hx': 35, 'potatodraws55': 29, 'imlostatthemall': 30, 'chima9000': 4, 'yellowsubmsrine': 47, 'majounlimited': 13, 'coolgamerbro650': 35, 'doverstwt': 2, 'davidho10673262': 14, 'halve_11': 8, 'mechanicalmagi3': 10, 'creative0name': 10, 'cosmosgalaxia': 27, 'gustavofritz15': 51, 'xenogenicyt': 29, 'undercover1055': 42, 'vtrjex': 27, 'limpshrimp42': 20, 'joseflo09807450': 7, 'lehonkey': 7, 'jose51403279': 1, 'ohgaryboi': 2, 'rompopevp': 33, 'resteria27': 23, 'hassan60831535': 25, '_retkid_': 4, 'thejxr1': 35, 'r0ch4glz': 33, 'killtime01': 31, 'naofumi26255364': 27, 'longrangedog': 16, 'selevfour': 17, 'tvrk777': 4, 'jugadordepley3': 5, 'oscar_klppr': 9, 'iberrykarsen': 25, 'dude_stay': 54, 'geekgem1': 26, 'amarillitadaira': 30, 'velentine__': 33, 'taunt_yt': 13, 'zzauza': 63, 'nathaniel165579': 35, 'browy01': 3, 'iamcoolinnit': 17, 'whipeeeee': 2, 'dejdothecringe': 31, 'daniel_joestarr': 11, 'nutzoze': 28, 'flettive': 20, 'paulussoler': 27, 'yauntihunter': 33, 'mnightangle': 35, 'sir_pew_pew_pew': 1, 'fazbear38': 1, 'dedoubleyouel': 28, 'maddindono': 29, '300gprotein': 30, 'cedricolly1': 30, 'sirhydee': 13, 'lambdagenposts': 22, 'kronas_': 5, 'beholdtheimp': 5, 'ffarquhard': 24, 'northwestrdude': 25, 'cheese_manss': 5, 'stanek21111': 35, 'josh47157753': 33, 'kapikropi': 3, 'victorwallec': 332, 'derdiedasjan136': 25, 'ciejezus': 17, 'zoomviex': 6, 'pogo_the_goat': 28, 'bombineer': 28, 'jjjjjjatr': 10, 'srechna1': 15, 'redsoney': 37, 'amonix_ghost': 4, 'steinerteddylp': 4, 'aquaintlad': 23, 'bjorngomes': 23, 'general5345': 2, 'kenz__val': 8, 'dialga22239': 29, 'janpen_8': 30, 'hanz_jon': 30, 'jokertn84': 4, 'benben377': 33, 'noshowmichelle': 15, 'turtlententacle': 35, 'consta_lume': 21, 'l_luna_1998': 21, 'jamesmarshallha': 21, 'bettercallheis': 21, 'ariethefloof': 17, 'shorktf2': 33, 'savetf2archive': 35, 'benjami02273209': 1, 'voronoir_': 11, 'piedrapreciosa3': 1, 'matienk0': 29, 'mrluckymen': 7, 'aquarioce': 24, 'maximoh52085382': 4, 'osoponso': 37, 'albertho271': 41, 'redlix_tf': 9, 'antonyedgy': 15, 'casffles': 1, 'nyahnyahnikkini': 32, 'ggooober': 60, 'mickspy': 25, 'hellkaiser39': 6, 'saltlessrice': 1, 'tvoi_fanat_': 27, 'rafael11479': 17, 'vfernandocc': 22, 'jeagle_g': 23, 'matiasg63546095': 4, 'superyeet8': 1, 'riotabsolute': 4, 'adamjridding': 10, 'jadechar1': 6, 'rednayru_': 10, 'azybuhaev': 80, 'belorusian': 143, 'golperandom': 5, 'antonbivis': 6, 'philippepaliss1': 4, 'anvitzinsfw': 28, 'mateogarciagon5': 30, 'softecarly': 27, 'davifer88178981': 27, '221cmori': 27, 'mnk91145275': 5, 'plauk_sy': 2, 'adi_wolny': 4, 'terminaitorr79': 26, 'mstepann': 15, 'the_short_cat': 3, 'catboyfisky': 26, 'andrewer041': 1, 'commandercinth': 27, 'jebbidan': 19, 'fooled_frog': 24, 'midget_mallow': 27, 'hotgrossdog': 9, 'kite__': 12, 'karmaobviously': 29, 'jojo21762493': 2, 'corytech08': 12, 'rafapedr0': 20, 'castlevaniax007': 28, 'destivcx': 4, 'knightspy3': 32, 'macqueenomoruyi': 21, 'esteven_alvarez': 21, 'felipinkho1': 24, 'trendingvidatm': 11, 'gameremirhan1': 2, 'ponurywieloryb': 29, 'benscrafts1234': 4, 'conehea64458249': 1, 'yumyum34788471': 4, 'vcserhomo': 31, 'simarpa46498576': 1, 'nawaminsiam': 18, 'geekomancer': 21, 'sammiboiiii': 1, 'bulletking61': 3, 'mx_hippakrit': 14, 'shers_wird_stuf': 30, 'fastblueapple9': 31, 'centurionfox': 22}\n"
     ]
    }
   ],
   "source": [
    "def count_dictionary(persons):\n",
    "    count = 0\n",
    "    for key, value in persons.items():\n",
    "        count += value\n",
    "    print(count)\n",
    "\n",
    "def print_max(persons):\n",
    "    max_word = max(persons, key=persons.get)\n",
    "    print(max_word)\n",
    "    print(persons[max_word])\n",
    "\n",
    "# Analyze the network\n",
    "I_words = [\"i\", \"me\", \"my\", \"mine\"]\n",
    "you_words = [\"you\", \"yours\"]\n",
    "we_words = [\"we\", \"us\", \"our\", \"ours\"]\n",
    "\n",
    "# Calculate per person\n",
    "persons_i_words = dict()\n",
    "persons_you_words = dict()\n",
    "persons_we_words = dict()\n",
    "tweets_person = dict()\n",
    "words_person = dict()\n",
    "for index, row in df.iterrows():\n",
    "    # count tweets per person\n",
    "    tweets_person[row['source_user']] = tweets_person.get(row['source_user'], 0) + 1\n",
    "    \n",
    "    #split the text on punctuation. \n",
    "    split_text = re.split(r'[,;!?:\" .\\']', row['tweet_text'])\n",
    "    for word in split_text:\n",
    "        # count words per person\n",
    "        words_person[row['source_user']] = words_person.get(row['source_user'], 0) + 1\n",
    "        \n",
    "        # count i/you/we words per person\n",
    "        if word.lower() == 'i':\n",
    "            persons_i_words[row['source_user']] = persons_i_words.get(row['source_user'], 0) + 1\n",
    "        elif word.lower() == 'you':\n",
    "            persons_you_words[row['source_user']] = persons_you_words.get(row['source_user'], 0) + 1\n",
    "        elif word.lower() == 'we':\n",
    "            persons_we_words[row['source_user']] = persons_we_words.get(row['source_user'], 0) + 1\n",
    "\n",
    "#print(num_tweets_person_tweets_person)\n",
    "print_max(persons_i_words)\n",
    "print_max(persons_you_words)\n",
    "print_max(persons_we_words)\n",
    "\n",
    "\n",
    "#print(persons_i_words)\n",
    "#print(persons_you_words)\n",
    "#print(persons_we_words)\n",
    "#count_dictionary(persons_i_words)\n",
    "#count_dictionary(persons_you_words)\n",
    "#count_dictionary(persons_we_words)\n",
    "#print(tweets_person)\n",
    "print(words_person)"
   ]
  },
  {
   "cell_type": "code",
   "execution_count": null,
   "metadata": {
    "pycharm": {
     "name": "#%%\n"
    }
   },
   "outputs": [],
   "source": [
    "plt.figure(figsize=(20, 20), dpi= 200)\n",
    "nx.draw_networkx(G= G, edge_color=colors, node_color=node_colors, with_labels=False)"
   ]
  },
  {
   "cell_type": "code",
   "execution_count": null,
   "metadata": {
    "pycharm": {
     "name": "#%%\n"
    }
   },
   "outputs": [],
   "source": []
  }
 ],
 "metadata": {
  "kernelspec": {
   "display_name": "Python 3 (ipykernel)",
   "language": "python",
   "name": "python3"
  },
  "language_info": {
   "codemirror_mode": {
    "name": "ipython",
    "version": 3
   },
   "file_extension": ".py",
   "mimetype": "text/x-python",
   "name": "python",
   "nbconvert_exporter": "python",
   "pygments_lexer": "ipython3",
   "version": "3.8.5"
  }
 },
 "nbformat": 4,
 "nbformat_minor": 1
}
