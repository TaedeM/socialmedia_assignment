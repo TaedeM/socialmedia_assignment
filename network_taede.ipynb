{
 "cells": [
  {
   "cell_type": "code",
   "execution_count": 2,
   "metadata": {
    "pycharm": {
     "name": "#%%\n"
    }
   },
   "outputs": [],
   "source": [
    "import networkx as nx\n",
    "import pandas as pd\n",
    "import matplotlib.pyplot as plt\n",
    "import numpy as np\n",
    "import matplotlib.colors as mcolors\n",
    "import matplotlib.cm as cm\n",
    "import matplotlib\n",
    "import re"
   ]
  },
  {
   "cell_type": "code",
   "execution_count": 3,
   "metadata": {
    "pycharm": {
     "name": "#%%\n"
    }
   },
   "outputs": [
    {
     "name": "stdout",
     "output_type": "stream",
     "text": [
      "         source_user   mentioned_user  \\\n",
      "0           notherle        dude_stay   \n",
      "1           notherle       facikwacik   \n",
      "2           notherle     crazycold739   \n",
      "3           notherle       filippecak   \n",
      "4           notherle      u_yousolame   \n",
      "..               ...              ...   \n",
      "842     bulletking61     bulletking61   \n",
      "843     mx_hippakrit     mx_hippakrit   \n",
      "844  shers_wird_stuf  shers_wird_stuf   \n",
      "845   fastblueapple9  shers_wird_stuf   \n",
      "846     centurionfox            steam   \n",
      "\n",
      "                                            tweet_text  \n",
      "0    RT @dude_stay: Plz help us save the this game ...  \n",
      "1    RT @FacikWacik: My favorite game is dying ????...  \n",
      "2    RT @CraZyCold739: I associate with this game n...  \n",
      "3    RT @FilipPecak: Hi people. Let's save #SafeTF2...  \n",
      "4    RT @u_yousolame: I been playing tf2 for a few ...  \n",
      "..                                                 ...  \n",
      "842              #SafeTF2  PLZZZZZZZZZZZZZZZZZZZZZZZZZ  \n",
      "843  I know I'm late for this but #SafeTF2 (':\\n\\nh...  \n",
      "844  I know Im maybe late, but I dont care, I lov...  \n",
      "845  RT @Shers_wird_stuf: I know Im maybe late, bu...  \n",
      "846  @Steam Every time steam or valve posts somethi...  \n",
      "\n",
      "[847 rows x 3 columns]\n"
     ]
    }
   ],
   "source": [
    "filepath = './tweets.csv'\n",
    "\n",
    "df = pd.read_csv(filepath, delimiter=',',\n",
    "                skiprows=1, # skips the first line of the file\n",
    "                encoding='unicode_escape', # prevents errors on unknown symbols\n",
    "                usecols=['Vertex 1', 'Vertex 2', 'Tweet'], # only import the columns we use\n",
    "                )\n",
    "df.columns = ['source_user', 'mentioned_user', 'tweet_text']\n",
    "\n",
    "print(df)"
   ]
  },
  {
   "cell_type": "code",
   "execution_count": 4,
   "metadata": {
    "pycharm": {
     "name": "#%%\n"
    }
   },
   "outputs": [],
   "source": [
    "# add nodes? first export df to list/dictionary then transform? or easier way?"
   ]
  },
  {
   "cell_type": "code",
   "execution_count": 5,
   "metadata": {
    "pycharm": {
     "name": "#%%\n"
    }
   },
   "outputs": [
    {
     "name": "stdout",
     "output_type": "stream",
     "text": [
      "344\n"
     ]
    }
   ],
   "source": [
    "G = nx.DiGraph()\n",
    "colors = []\n",
    "for source_user, mentioned_user, tweet_text in zip(df.source_user, df.mentioned_user, df.tweet_text):\n",
    "\n",
    "    if source_user != mentioned_user:\n",
    "        G.add_edge(source_user, mentioned_user)\n",
    "        if \"RT\" in tweet_text[:3]:\n",
    "            colors.append(\"black\")\n",
    "        else:\n",
    "            colors.append(\"red\")\n",
    "\n",
    "node_colors = np.arange(0.0, 1.0, 1/G.number_of_nodes())\n",
    "print(len(node_colors))"
   ]
  },
  {
   "cell_type": "code",
   "execution_count": 6,
   "metadata": {
    "pycharm": {
     "name": "#%%\n"
    }
   },
   "outputs": [
    {
     "data": {
      "text/plain": [
       "344"
      ]
     },
     "execution_count": 6,
     "metadata": {},
     "output_type": "execute_result"
    }
   ],
   "source": [
    "G.number_of_nodes()"
   ]
  },
  {
   "cell_type": "code",
   "execution_count": 7,
   "metadata": {
    "pycharm": {
     "name": "#%%\n"
    }
   },
   "outputs": [
    {
     "data": {
      "text/plain": [
       "434"
      ]
     },
     "execution_count": 7,
     "metadata": {},
     "output_type": "execute_result"
    }
   ],
   "source": [
    "G.number_of_edges()"
   ]
  },
  {
   "cell_type": "code",
   "execution_count": 8,
   "metadata": {
    "pycharm": {
     "name": "#%%\n"
    }
   },
   "outputs": [],
   "source": [
    "measures = {\"centrality\": {'in_degree': nx.in_degree_centrality(G), 'out_degree': nx.out_degree_centrality(G),\n",
    "                           'betweenness': nx.betweenness_centrality(G), 'closeness': nx.closeness_centrality(G)}}\n",
    "out_degrees = []\n",
    "for key, value in nx.out_degree_centrality(G).items():\n",
    "    out_degrees.append(value)\n",
    "\n",
    "minima = min(out_degrees)\n",
    "maxima = max(out_degrees)\n",
    "\n",
    "norm = matplotlib.colors.Normalize(vmin=minima, vmax=maxima, clip=True)\n",
    "mapper = cm.ScalarMappable(norm=norm, cmap=cm.Greys_r)\n",
    "node_colors = []\n",
    "for v in out_degrees:\n",
    "    node_colors.append(mapper.to_rgba(v)[0])\n"
   ]
  },
  {
   "cell_type": "code",
   "execution_count": 24,
   "metadata": {},
   "outputs": [
    {
     "name": "stdout",
     "output_type": "stream",
     "text": [
      "simon_word\n",
      "45\n",
      "simon_word\n",
      "5\n",
      "simon_word\n",
      "9\n"
     ]
    }
   ],
   "source": [
    "def count_dictionary(persons):\n",
    "    count = 0\n",
    "    for key, value in persons.items():\n",
    "        count += value\n",
    "    print(count)\n",
    "\n",
    "def print_max(persons):\n",
    "    max_word = max(persons, key=persons.get)\n",
    "    print(max_word)\n",
    "    print(persons[max_word])\n",
    "\n",
    "# Analyze the network\n",
    "I_words = [\"i\", \"me\", \"my\", \"mine\"]\n",
    "you_words = [\"you\", \"yours\"]\n",
    "we_words = [\"we\", \"us\", \"our\", \"ours\"]\n",
    "\n",
    "# Calculate per person\n",
    "persons_i_words = dict()\n",
    "persons_you_words = dict()\n",
    "persons_we_words = dict()\n",
    "tweets_person = dict()\n",
    "words_person = dict()\n",
    "for index, row in df.iterrows():\n",
    "    # count tweets per person\n",
    "    tweets_person[row['source_user']] = tweets_person.get(row['source_user'], 0) + 1\n",
    "    \n",
    "    #split the text on punctuation. \n",
    "    split_text = re.split(r'[,;!?:\" .\\']', row['tweet_text'])\n",
    "    for word in split_text:\n",
    "        # count words per person\n",
    "        words_person[row['source_user']] = words_person.get(row['source_user'], 0) + 1\n",
    "        \n",
    "        # count i/you/we words per person\n",
    "        if word.lower() == 'i':\n",
    "            persons_i_words[row['source_user']] = persons_i_words.get(row['source_user'], 0) + 1\n",
    "        elif word.lower() == 'you':\n",
    "            persons_you_words[row['source_user']] = persons_you_words.get(row['source_user'], 0) + 1\n",
    "        elif word.lower() == 'we':\n",
    "            persons_we_words[row['source_user']] = persons_we_words.get(row['source_user'], 0) + 1\n",
    "print_max(persons_i_words)\n",
    "print_max(persons_you_words)\n",
    "print_max(persons_we_words)\n",
    "\n",
    "# Generate one complete dictionary\n",
    "complete_person = dict()\n",
    "for person, value in words_person.items():\n",
    "    complete_person[person] = {}\n",
    "    complete_person[person]['words'] = value\n",
    "\n",
    "for person, value in persons_i_words.items():\n",
    "    complete_person[person]['i_words'] = value\n",
    "for person, value in persons_you_words.items():\n",
    "    complete_person[person]['you_words'] = value\n",
    "for person, value in persons_we_words.items():\n",
    "    complete_person[person]['we_words'] = value\n",
    "for person, value in tweets_person.items():\n",
    "    complete_person[person]['num_tweets'] = value\n",
    "\n",
    "\n",
    "# Calculate proportions\n",
    "for key, value in complete_person.items():\n",
    "    \n",
    "    if 'i_words' in complete_person[key]:\n",
    "        complete_person[key]['%_i'] = round(complete_person[key]['i_words']/complete_person[key]['words'], 4)\n",
    "    else:\n",
    "        complete_person[key]['%_i'] = 0.0\n",
    "    if 'you_words' in complete_person[key]:\n",
    "        complete_person[key]['%_you'] = round(complete_person[key]['you_words']/complete_person[key]['words'], 4)\n",
    "    else:\n",
    "        complete_person[key]['%_you'] = 0.0\n",
    "    if 'we_words' in complete_person[key]:\n",
    "        complete_person[key]['%_we'] = round(complete_person[key]['we_words']/complete_person[key]['words'], 4)\n",
    "    else:\n",
    "        complete_person[key]['%_we'] = 0.0\n",
    "#print(complete_person)"
   ]
  },
  {
   "cell_type": "code",
   "execution_count": 31,
   "metadata": {},
   "outputs": [
    {
     "name": "stdout",
     "output_type": "stream",
     "text": [
      "{'notherle': {'words': 234, 'i_words': 6, 'you_words': 2, 'we_words': 1, 'num_tweets': 10, '%_i': 0.0256, '%_you': 0.0085, '%_we': 0.0043, 'lingstat': 0.5}, 'joseeliansalva1': {'words': 1, 'num_tweets': 1, '%_i': 0.0, '%_you': 0.0, '%_we': 0.0, 'lingstat': 0.0}, 'williw80472984': {'words': 28, 'i_words': 1, 'num_tweets': 1, '%_i': 0.0357, '%_you': 0.0, '%_we': 0.0, 'lingstat': 0.0}, 'margisstupid': {'words': 27, 'num_tweets': 1, '%_i': 0.0, '%_you': 0.0, '%_we': 0.0, 'lingstat': 0.0}, 'wisco1180': {'words': 27, 'num_tweets': 1, '%_i': 0.0, '%_you': 0.0, '%_we': 0.0, 'lingstat': 0.0}, 'alexsha71075971': {'words': 4, 'num_tweets': 1, '%_i': 0.0, '%_you': 0.0, '%_we': 0.0, 'lingstat': 0.0}, 'kubekposting': {'words': 12, 'i_words': 1, 'num_tweets': 1, '%_i': 0.0833, '%_you': 0.0, '%_we': 0.0, 'lingstat': 0.0}, 'edgaror37098062': {'words': 2, 'num_tweets': 1, '%_i': 0.0, '%_you': 0.0, '%_we': 0.0, 'lingstat': 0.0}, 'amoru01369152': {'words': 107, 'num_tweets': 1, '%_i': 0.0, '%_you': 0.0, '%_we': 0.0, 'lingstat': 0.0}, 'j__peg': {'words': 31, 'i_words': 2, 'num_tweets': 1, '%_i': 0.0645, '%_you': 0.0, '%_we': 0.0, 'lingstat': 0.0}, 'rainman50258089': {'words': 12, 'num_tweets': 2, '%_i': 0.0, '%_you': 0.0, '%_we': 0.0, 'lingstat': 0.0}, 'gd0ud': {'words': 31, 'i_words': 2, 'num_tweets': 1, '%_i': 0.0645, '%_you': 0.0, '%_we': 0.0, 'lingstat': 0.0}, 'rubysunseto': {'words': 31, 'i_words': 2, 'num_tweets': 1, '%_i': 0.0645, '%_you': 0.0, '%_we': 0.0, 'lingstat': 0.0}, 'isabourian': {'words': 21, 'num_tweets': 3, '%_i': 0.0, '%_you': 0.0, '%_we': 0.0, 'lingstat': 0.0}, 'snastheweirdone': {'words': 4, 'num_tweets': 1, '%_i': 0.0, '%_you': 0.0, '%_we': 0.0, 'lingstat': 0.0}, 'cyber_pixeeel': {'words': 27, 'num_tweets': 1, '%_i': 0.0, '%_you': 0.0, '%_we': 0.0, 'lingstat': 0.0}, '98tremor': {'words': 13, 'num_tweets': 1, '%_i': 0.0, '%_you': 0.0, '%_we': 0.0, 'lingstat': 0.0}, 'brahmfunny': {'words': 3, 'we_words': 1, 'num_tweets': 1, '%_i': 0.0, '%_you': 0.0, '%_we': 0.3333, 'lingstat': 0.3333}, 'janekkotlet': {'words': 3, 'i_words': 1, 'num_tweets': 1, '%_i': 0.3333, '%_you': 0.0, '%_we': 0.0, 'lingstat': 0.0}, 'bananajon123': {'words': 2, 'num_tweets': 1, '%_i': 0.0, '%_you': 0.0, '%_we': 0.0, 'lingstat': 0.0}, 'ar4ys_': {'words': 32, 'i_words': 2, 'num_tweets': 1, '%_i': 0.0625, '%_you': 0.0, '%_we': 0.0, 'lingstat': 0.0}, 'tntast1': {'words': 14, 'i_words': 2, 'num_tweets': 1, '%_i': 0.1429, '%_you': 0.0, '%_we': 0.0, 'lingstat': 0.0}, 'moxxiesimp': {'words': 28, 'we_words': 1, 'num_tweets': 1, '%_i': 0.0, '%_you': 0.0, '%_we': 0.0357, 'lingstat': 0.0357}, 'pannalesnik3': {'words': 17, 'i_words': 1, 'num_tweets': 1, '%_i': 0.0588, '%_you': 0.0, '%_we': 0.0, 'lingstat': 0.0}, 'aqua2701': {'words': 6, 'num_tweets': 1, '%_i': 0.0, '%_you': 0.0, '%_we': 0.0, 'lingstat': 0.0}, 'zack1764694126': {'words': 25, 'num_tweets': 1, '%_i': 0.0, '%_you': 0.0, '%_we': 0.0, 'lingstat': 0.0}, 'marcel25419707': {'words': 3, 'num_tweets': 1, '%_i': 0.0, '%_you': 0.0, '%_we': 0.0, 'lingstat': 0.0}, 'wallstreetkong': {'words': 1, 'num_tweets': 1, '%_i': 0.0, '%_you': 0.0, '%_we': 0.0, 'lingstat': 0.0}, 'h10ur_s': {'words': 12, 'num_tweets': 1, '%_i': 0.0, '%_you': 0.0, '%_we': 0.0, 'lingstat': 0.0}, 'smuwus': {'words': 1, 'num_tweets': 1, '%_i': 0.0, '%_you': 0.0, '%_we': 0.0, 'lingstat': 0.0}, 'stosin2': {'words': 5, 'num_tweets': 1, '%_i': 0.0, '%_you': 0.0, '%_we': 0.0, 'lingstat': 0.0}, 'navi1337_': {'words': 1, 'num_tweets': 1, '%_i': 0.0, '%_you': 0.0, '%_we': 0.0, 'lingstat': 0.0}, 'elian77808966': {'words': 27, 'num_tweets': 1, '%_i': 0.0, '%_you': 0.0, '%_we': 0.0, 'lingstat': 0.0}, '3ermundoman': {'words': 27, 'num_tweets': 1, '%_i': 0.0, '%_you': 0.0, '%_we': 0.0, 'lingstat': 0.0}, 'eppsnl': {'words': 50, 'i_words': 1, 'num_tweets': 2, '%_i': 0.02, '%_you': 0.0, '%_we': 0.0, 'lingstat': 0.0}, 'roberteoidgaf': {'words': 24, 'num_tweets': 1, '%_i': 0.0, '%_you': 0.0, '%_we': 0.0, 'lingstat': 0.0}, 'patpol51444250': {'words': 25, 'i_words': 2, 'num_tweets': 1, '%_i': 0.08, '%_you': 0.0, '%_we': 0.0, 'lingstat': 0.0}, 'wonter210': {'words': 4, 'num_tweets': 1, '%_i': 0.0, '%_you': 0.0, '%_we': 0.0, 'lingstat': 0.0}, 'tezeta54369292': {'words': 1, 'num_tweets': 1, '%_i': 0.0, '%_you': 0.0, '%_we': 0.0, 'lingstat': 0.0}, 'unfantasm': {'words': 4, 'num_tweets': 1, '%_i': 0.0, '%_you': 0.0, '%_we': 0.0, 'lingstat': 0.0}, 'postrome': {'words': 40, 'num_tweets': 2, '%_i': 0.0, '%_you': 0.0, '%_we': 0.0, 'lingstat': 0.0}, 'esmilios': {'words': 4, 'num_tweets': 1, '%_i': 0.0, '%_you': 0.0, '%_we': 0.0, 'lingstat': 0.0}, 'lautaro_prado6': {'words': 29, 'num_tweets': 2, '%_i': 0.0, '%_you': 0.0, '%_we': 0.0, 'lingstat': 0.0}, 'shockblaster1': {'words': 4, 'num_tweets': 1, '%_i': 0.0, '%_you': 0.0, '%_we': 0.0, 'lingstat': 0.0}, 'ghadiw_safetf2': {'words': 156, 'num_tweets': 2, '%_i': 0.0, '%_you': 0.0, '%_we': 0.0, 'lingstat': 0.0}, 'safiroanejo': {'words': 246, 'num_tweets': 3, '%_i': 0.0, '%_you': 0.0, '%_we': 0.0, 'lingstat': 0.0}, 'paquito_182': {'words': 9, 'num_tweets': 1, '%_i': 0.0, '%_you': 0.0, '%_we': 0.0, 'lingstat': 0.0}, 'rrijnwoude': {'words': 1, 'num_tweets': 1, '%_i': 0.0, '%_you': 0.0, '%_we': 0.0, 'lingstat': 0.0}, 'creeperking2002': {'words': 9, 'num_tweets': 1, '%_i': 0.0, '%_you': 0.0, '%_we': 0.0, 'lingstat': 0.0}, 'displume_': {'words': 3, 'num_tweets': 1, '%_i': 0.0, '%_you': 0.0, '%_we': 0.0, 'lingstat': 0.0}, 'vectus7': {'words': 245, 'i_words': 3, 'you_words': 1, 'we_words': 3, 'num_tweets': 11, '%_i': 0.0122, '%_you': 0.0041, '%_we': 0.0122, 'lingstat': 1.3360655737704918}, 'shinyasshole': {'words': 28, 'i_words': 1, 'num_tweets': 1, '%_i': 0.0357, '%_you': 0.0, '%_we': 0.0, 'lingstat': 0.0}, 'iamexydis': {'words': 4, 'num_tweets': 1, '%_i': 0.0, '%_you': 0.0, '%_we': 0.0, 'lingstat': 0.0}, 'technowings2': {'words': 31, 'i_words': 2, 'num_tweets': 1, '%_i': 0.0645, '%_you': 0.0, '%_we': 0.0, 'lingstat': 0.0}, '_megacomet_': {'words': 31, 'i_words': 3, 'num_tweets': 1, '%_i': 0.0968, '%_you': 0.0, '%_we': 0.0, 'lingstat': 0.0}, 'matherook': {'words': 1, 'num_tweets': 1, '%_i': 0.0, '%_you': 0.0, '%_we': 0.0, 'lingstat': 0.0}, 'livsbian': {'words': 11, 'i_words': 1, 'num_tweets': 1, '%_i': 0.0909, '%_you': 0.0, '%_we': 0.0, 'lingstat': 0.0}, 'ray_404_2': {'words': 14, 'i_words': 1, 'num_tweets': 1, '%_i': 0.0714, '%_you': 0.0, '%_we': 0.0, 'lingstat': 0.0}, 'przemek92215723': {'words': 1, 'num_tweets': 1, '%_i': 0.0, '%_you': 0.0, '%_we': 0.0, 'lingstat': 0.0}, 'studiossylv': {'words': 15, 'num_tweets': 1, '%_i': 0.0, '%_you': 0.0, '%_we': 0.0, 'lingstat': 0.0}, 'stevemiaulol039': {'words': 12, 'num_tweets': 1, '%_i': 0.0, '%_you': 0.0, '%_we': 0.0, 'lingstat': 0.0}, 'xxrubensilva': {'words': 12, 'num_tweets': 3, '%_i': 0.0, '%_you': 0.0, '%_we': 0.0, 'lingstat': 0.0}, 'skanda1i5t': {'words': 23, 'you_words': 1, 'num_tweets': 1, '%_i': 0.0, '%_you': 0.0435, '%_we': 0.0, 'lingstat': 0.0435}, 'l_i_x_e': {'words': 17, 'num_tweets': 1, '%_i': 0.0, '%_you': 0.0, '%_we': 0.0, 'lingstat': 0.0}, 'senpai_unknownr': {'words': 12, 'you_words': 1, 'num_tweets': 1, '%_i': 0.0, '%_you': 0.0833, '%_we': 0.0, 'lingstat': 0.0833}, 'mor1nator': {'words': 33, 'you_words': 2, 'num_tweets': 3, '%_i': 0.0, '%_you': 0.0606, '%_we': 0.0, 'lingstat': 0.0606}, 'pengpoii': {'words': 13, 'num_tweets': 2, '%_i': 0.0, '%_you': 0.0, '%_we': 0.0, 'lingstat': 0.0}, 'dekolo123': {'words': 74, 'i_words': 2, 'we_words': 1, 'num_tweets': 4, '%_i': 0.027, '%_you': 0.0, '%_we': 0.0135, 'lingstat': 0.5}, 'toonblood': {'words': 25, 'num_tweets': 1, '%_i': 0.0, '%_you': 0.0, '%_we': 0.0, 'lingstat': 0.0}, 'hermmn_0': {'words': 72, 'num_tweets': 7, '%_i': 0.0, '%_you': 0.0, '%_we': 0.0, 'lingstat': 0.0}, 'i13thnightmarei': {'words': 29, 'i_words': 2, 'num_tweets': 1, '%_i': 0.069, '%_you': 0.0, '%_we': 0.0, 'lingstat': 0.0}, 'aftunwilliam': {'words': 4, 'num_tweets': 1, '%_i': 0.0, '%_you': 0.0, '%_we': 0.0, 'lingstat': 0.0}, 'rynoscrap': {'words': 19, 'num_tweets': 1, '%_i': 0.0, '%_you': 0.0, '%_we': 0.0, 'lingstat': 0.0}, 'trippnichols4': {'words': 1, 'num_tweets': 1, '%_i': 0.0, '%_you': 0.0, '%_we': 0.0, 'lingstat': 0.0}, 'spqrlegionarius': {'words': 75, 'num_tweets': 2, '%_i': 0.0, '%_you': 0.0, '%_we': 0.0, 'lingstat': 0.0}, 'clmlfm': {'words': 9, 'num_tweets': 1, '%_i': 0.0, '%_you': 0.0, '%_we': 0.0, 'lingstat': 0.0}, 'forkstaf': {'words': 11, 'num_tweets': 1, '%_i': 0.0, '%_you': 0.0, '%_we': 0.0, 'lingstat': 0.0}, 'firebladeent': {'words': 14, 'num_tweets': 1, '%_i': 0.0, '%_you': 0.0, '%_we': 0.0, 'lingstat': 0.0}, 'fpieselek': {'words': 6, 'num_tweets': 1, '%_i': 0.0, '%_you': 0.0, '%_we': 0.0, 'lingstat': 0.0}, 'crimson_mayhem_': {'words': 26, 'num_tweets': 1, '%_i': 0.0, '%_you': 0.0, '%_we': 0.0, 'lingstat': 0.0}, 'ttcaptaingus': {'words': 26, 'num_tweets': 1, '%_i': 0.0, '%_you': 0.0, '%_we': 0.0, 'lingstat': 0.0}, 'rrinking': {'words': 33, 'i_words': 2, 'num_tweets': 1, '%_i': 0.0606, '%_you': 0.0, '%_we': 0.0, 'lingstat': 0.0}, 'acornrolluwu': {'words': 19, 'num_tweets': 1, '%_i': 0.0, '%_you': 0.0, '%_we': 0.0, 'lingstat': 0.0}, 'stupidcake17': {'words': 832, 'i_words': 17, 'you_words': 1, 'we_words': 4, 'num_tweets': 46, '%_i': 0.0204, '%_you': 0.0012, '%_we': 0.0048, 'lingstat': 0.2941176470588235}, 'felipetweaks': {'words': 7, 'num_tweets': 1, '%_i': 0.0, '%_you': 0.0, '%_we': 0.0, 'lingstat': 0.0}, 'turgineer_': {'words': 25, 'i_words': 2, 'num_tweets': 1, '%_i': 0.08, '%_you': 0.0, '%_we': 0.0, 'lingstat': 0.0}, 'bfullofmeat': {'words': 24, 'num_tweets': 1, '%_i': 0.0, '%_you': 0.0, '%_we': 0.0, 'lingstat': 0.0}, 'lemonade_raid': {'words': 27, 'i_words': 1, 'we_words': 1, 'num_tweets': 1, '%_i': 0.037, '%_you': 0.0, '%_we': 0.037, 'lingstat': 1.0}, 'fieldofsilly': {'words': 27, 'you_words': 1, 'num_tweets': 1, '%_i': 0.0, '%_you': 0.037, '%_we': 0.0, 'lingstat': 0.037}, 'dioxazine12': {'words': 3, 'num_tweets': 1, '%_i': 0.0, '%_you': 0.0, '%_we': 0.0, 'lingstat': 0.0}, 'kryto34': {'words': 4, 'num_tweets': 1, '%_i': 0.0, '%_you': 0.0, '%_we': 0.0, 'lingstat': 0.0}, 'lildiesel5': {'words': 24, 'i_words': 1, 'num_tweets': 1, '%_i': 0.0417, '%_you': 0.0, '%_we': 0.0, 'lingstat': 0.0}, 'thegoddamnsky': {'words': 27, 'we_words': 1, 'num_tweets': 1, '%_i': 0.0, '%_you': 0.0, '%_we': 0.037, 'lingstat': 0.037}, 'midnos14': {'words': 444, 'i_words': 11, 'you_words': 1, 'we_words': 6, 'num_tweets': 23, '%_i': 0.0248, '%_you': 0.0023, '%_we': 0.0135, 'lingstat': 0.6370967741935485}, 'karmecld': {'words': 22, 'num_tweets': 1, '%_i': 0.0, '%_you': 0.0, '%_we': 0.0, 'lingstat': 0.0}, 'idiotxddd1': {'words': 10, 'i_words': 1, 'num_tweets': 1, '%_i': 0.1, '%_you': 0.0, '%_we': 0.0, 'lingstat': 0.0}, 'whymemelord': {'words': 36, 'i_words': 3, 'num_tweets': 1, '%_i': 0.0833, '%_you': 0.0, '%_we': 0.0, 'lingstat': 0.0}, 'dawnmaskedguy': {'words': 26, 'num_tweets': 1, '%_i': 0.0, '%_you': 0.0, '%_we': 0.0, 'lingstat': 0.0}, 'harikacaner123': {'words': 20, 'we_words': 2, 'num_tweets': 1, '%_i': 0.0, '%_you': 0.0, '%_we': 0.1, 'lingstat': 0.1}, 'mlpdisneylover': {'words': 26, 'num_tweets': 1, '%_i': 0.0, '%_you': 0.0, '%_we': 0.0, 'lingstat': 0.0}, 'thicc_viking': {'words': 26, 'i_words': 1, 'num_tweets': 1, '%_i': 0.0385, '%_you': 0.0, '%_we': 0.0, 'lingstat': 0.0}, 'lukas92690729': {'words': 25, 'num_tweets': 1, '%_i': 0.0, '%_you': 0.0, '%_we': 0.0, 'lingstat': 0.0}, 'matt_sumon': {'words': 26, 'num_tweets': 1, '%_i': 0.0, '%_you': 0.0, '%_we': 0.0, 'lingstat': 0.0}, 'nieswillsneeze': {'words': 28, 'i_words': 2, 'num_tweets': 1, '%_i': 0.0714, '%_you': 0.0, '%_we': 0.0, 'lingstat': 0.0}, 'dani751poland': {'words': 14, 'num_tweets': 1, '%_i': 0.0, '%_you': 0.0, '%_we': 0.0, 'lingstat': 0.0}, '333ajc2': {'words': 19, 'num_tweets': 1, '%_i': 0.0, '%_you': 0.0, '%_we': 0.0, 'lingstat': 0.0}, 'kosogore': {'words': 114, 'num_tweets': 1, '%_i': 0.0, '%_you': 0.0, '%_we': 0.0, 'lingstat': 0.0}, 'firearmleo28': {'words': 1, 'num_tweets': 1, '%_i': 0.0, '%_you': 0.0, '%_we': 0.0, 'lingstat': 0.0}, 'joaquinmaciel_': {'words': 2, 'num_tweets': 1, '%_i': 0.0, '%_you': 0.0, '%_we': 0.0, 'lingstat': 0.0}, 'jul4ncrazy': {'words': 2, 'num_tweets': 1, '%_i': 0.0, '%_you': 0.0, '%_we': 0.0, 'lingstat': 0.0}, 'lazycola_': {'words': 29, 'num_tweets': 1, '%_i': 0.0, '%_you': 0.0, '%_we': 0.0, 'lingstat': 0.0}, 'justtheking1667': {'words': 15, 'num_tweets': 1, '%_i': 0.0, '%_you': 0.0, '%_we': 0.0, 'lingstat': 0.0}, 'axel7243': {'words': 29, 'i_words': 1, 'num_tweets': 1, '%_i': 0.0345, '%_you': 0.0, '%_we': 0.0, 'lingstat': 0.0}, 'kmykolayovych': {'words': 10, 'num_tweets': 1, '%_i': 0.0, '%_you': 0.0, '%_we': 0.0, 'lingstat': 0.0}, 'sakurarozu': {'words': 56, 'i_words': 2, 'num_tweets': 2, '%_i': 0.0357, '%_you': 0.0, '%_we': 0.0, 'lingstat': 0.0}, 'number1player7': {'words': 1, 'num_tweets': 1, '%_i': 0.0, '%_you': 0.0, '%_we': 0.0, 'lingstat': 0.0}, 'korkiyes': {'words': 6, 'num_tweets': 1, '%_i': 0.0, '%_you': 0.0, '%_we': 0.0, 'lingstat': 0.0}, 'randytheloq': {'words': 29, 'num_tweets': 1, '%_i': 0.0, '%_you': 0.0, '%_we': 0.0, 'lingstat': 0.0}, 'lil_spaghettini': {'words': 1, 'num_tweets': 1, '%_i': 0.0, '%_you': 0.0, '%_we': 0.0, 'lingstat': 0.0}, 'ostlandjihad': {'words': 13, 'num_tweets': 1, '%_i': 0.0, '%_you': 0.0, '%_we': 0.0, 'lingstat': 0.0}, 'plzbanme': {'words': 31, 'i_words': 3, 'num_tweets': 1, '%_i': 0.0968, '%_you': 0.0, '%_we': 0.0, 'lingstat': 0.0}, 'ravagerorr': {'words': 33, 'i_words': 2, 'num_tweets': 1, '%_i': 0.0606, '%_you': 0.0, '%_we': 0.0, 'lingstat': 0.0}, 'hoovyman17': {'words': 22, 'num_tweets': 1, '%_i': 0.0, '%_you': 0.0, '%_we': 0.0, 'lingstat': 0.0}, 'yeimmeleehero': {'words': 29, 'i_words': 3, 'num_tweets': 1, '%_i': 0.1034, '%_you': 0.0, '%_we': 0.0, 'lingstat': 0.0}, 'memeego': {'words': 9, 'i_words': 1, 'you_words': 1, 'num_tweets': 1, '%_i': 0.1111, '%_you': 0.1111, '%_we': 0.0, 'lingstat': 1.0}, 'shopskib': {'words': 12, 'i_words': 1, 'you_words': 1, 'num_tweets': 1, '%_i': 0.0833, '%_you': 0.0833, '%_we': 0.0, 'lingstat': 1.0}, 'hoodiehoot': {'words': 5, 'num_tweets': 1, '%_i': 0.0, '%_you': 0.0, '%_we': 0.0, 'lingstat': 0.0}, 'moneyinflation': {'words': 4, 'num_tweets': 1, '%_i': 0.0, '%_you': 0.0, '%_we': 0.0, 'lingstat': 0.0}, 'vivar7axel': {'words': 28, 'i_words': 2, 'num_tweets': 1, '%_i': 0.0714, '%_you': 0.0, '%_we': 0.0, 'lingstat': 0.0}, 'inatinyhotel': {'words': 25, 'you_words': 2, 'num_tweets': 1, '%_i': 0.0, '%_you': 0.08, '%_we': 0.0, 'lingstat': 0.08}, 'folyqe': {'words': 19, 'you_words': 2, 'num_tweets': 1, '%_i': 0.0, '%_you': 0.1053, '%_we': 0.0, 'lingstat': 0.1053}, 'gamdadragonite': {'words': 26, 'i_words': 2, 'num_tweets': 1, '%_i': 0.0769, '%_you': 0.0, '%_we': 0.0, 'lingstat': 0.0}, 'jevilwastaken': {'words': 7, 'num_tweets': 1, '%_i': 0.0, '%_you': 0.0, '%_we': 0.0, 'lingstat': 0.0}, 'super_jillop': {'words': 1, 'num_tweets': 1, '%_i': 0.0, '%_you': 0.0, '%_we': 0.0, 'lingstat': 0.0}, 'hobozone_': {'words': 6, 'num_tweets': 1, '%_i': 0.0, '%_you': 0.0, '%_we': 0.0, 'lingstat': 0.0}, 'boflond': {'words': 28, 'i_words': 2, 'num_tweets': 1, '%_i': 0.0714, '%_you': 0.0, '%_we': 0.0, 'lingstat': 0.0}, 'hoody_chan2002': {'words': 25, 'num_tweets': 1, '%_i': 0.0, '%_you': 0.0, '%_we': 0.0, 'lingstat': 0.0}, 'deltaforcesreal': {'words': 17, 'num_tweets': 2, '%_i': 0.0, '%_you': 0.0, '%_we': 0.0, 'lingstat': 0.0}, 'darthvader_8888': {'words': 22, 'num_tweets': 1, '%_i': 0.0, '%_you': 0.0, '%_we': 0.0, 'lingstat': 0.0}, '1624the': {'words': 48, 'num_tweets': 2, '%_i': 0.0, '%_you': 0.0, '%_we': 0.0, 'lingstat': 0.0}, 'palabraprohibi': {'words': 15, 'num_tweets': 1, '%_i': 0.0, '%_you': 0.0, '%_we': 0.0, 'lingstat': 0.0}, '_nagarat_': {'words': 1, 'num_tweets': 1, '%_i': 0.0, '%_you': 0.0, '%_we': 0.0, 'lingstat': 0.0}, 'hellstar_rin': {'words': 33, 'i_words': 2, 'num_tweets': 1, '%_i': 0.0606, '%_you': 0.0, '%_we': 0.0, 'lingstat': 0.0}, 'dirakial': {'words': 12, 'num_tweets': 1, '%_i': 0.0, '%_you': 0.0, '%_we': 0.0, 'lingstat': 0.0}, 'justintrombitas': {'words': 131, 'i_words': 4, 'num_tweets': 5, '%_i': 0.0305, '%_you': 0.0, '%_we': 0.0, 'lingstat': 0.0}, 'khaki_jeanart': {'words': 90, 'i_words': 4, 'num_tweets': 4, '%_i': 0.0444, '%_you': 0.0, '%_we': 0.0, 'lingstat': 0.0}, 'themamng': {'words': 27, 'i_words': 3, 'num_tweets': 1, '%_i': 0.1111, '%_you': 0.0, '%_we': 0.0, 'lingstat': 0.0}, 'blackcorfield': {'words': 23, 'num_tweets': 1, '%_i': 0.0, '%_you': 0.0, '%_we': 0.0, 'lingstat': 0.0}, 'uvaverde_god': {'words': 197, 'i_words': 1, 'num_tweets': 8, '%_i': 0.0051, '%_you': 0.0, '%_we': 0.0, 'lingstat': 0.0}, 'celaear': {'words': 20, 'num_tweets': 1, '%_i': 0.0, '%_you': 0.0, '%_we': 0.0, 'lingstat': 0.0}, 'akowop': {'words': 10, 'we_words': 2, 'num_tweets': 1, '%_i': 0.0, '%_you': 0.0, '%_we': 0.2, 'lingstat': 0.2}, 'archaicmodern': {'words': 58, 'we_words': 2, 'num_tweets': 2, '%_i': 0.0, '%_you': 0.0, '%_we': 0.0345, 'lingstat': 0.0345}, 'mashupmixpro77': {'words': 2, 'num_tweets': 1, '%_i': 0.0, '%_you': 0.0, '%_we': 0.0, 'lingstat': 0.0}, 'realmatiaris': {'words': 7, 'i_words': 1, 'num_tweets': 1, '%_i': 0.1429, '%_you': 0.0, '%_we': 0.0, 'lingstat': 0.0}, 'rinsthighsaret1': {'words': 1, 'num_tweets': 1, '%_i': 0.0, '%_you': 0.0, '%_we': 0.0, 'lingstat': 0.0}, 'dylanithink_': {'words': 13, 'num_tweets': 1, '%_i': 0.0, '%_you': 0.0, '%_we': 0.0, 'lingstat': 0.0}, 'cheeseball3737': {'words': 1, 'num_tweets': 1, '%_i': 0.0, '%_you': 0.0, '%_we': 0.0, 'lingstat': 0.0}, 'ronaldocouves': {'words': 2, 'num_tweets': 1, '%_i': 0.0, '%_you': 0.0, '%_we': 0.0, 'lingstat': 0.0}, 'laugje1234': {'words': 1, 'num_tweets': 1, '%_i': 0.0, '%_you': 0.0, '%_we': 0.0, 'lingstat': 0.0}, 'valequla': {'words': 11, 'num_tweets': 1, '%_i': 0.0, '%_you': 0.0, '%_we': 0.0, 'lingstat': 0.0}, 'coneepic': {'words': 1, 'num_tweets': 1, '%_i': 0.0, '%_you': 0.0, '%_we': 0.0, 'lingstat': 0.0}, 'pedro_spiderman': {'words': 1, 'num_tweets': 1, '%_i': 0.0, '%_you': 0.0, '%_we': 0.0, 'lingstat': 0.0}, 'lpsslang2': {'words': 1, 'num_tweets': 1, '%_i': 0.0, '%_you': 0.0, '%_we': 0.0, 'lingstat': 0.0}, 'themisterdax': {'words': 22, 'i_words': 1, 'num_tweets': 1, '%_i': 0.0455, '%_you': 0.0, '%_we': 0.0, 'lingstat': 0.0}, 'realzachary0325': {'words': 1, 'num_tweets': 1, '%_i': 0.0, '%_you': 0.0, '%_we': 0.0, 'lingstat': 0.0}, 'wynndam1': {'words': 24, 'i_words': 1, 'num_tweets': 1, '%_i': 0.0417, '%_you': 0.0, '%_we': 0.0, 'lingstat': 0.0}, 'combensky': {'words': 4, 'num_tweets': 1, '%_i': 0.0, '%_you': 0.0, '%_we': 0.0, 'lingstat': 0.0}, 'potatowithsala1': {'words': 67, 'i_words': 2, 'num_tweets': 3, '%_i': 0.0299, '%_you': 0.0, '%_we': 0.0, 'lingstat': 0.0}, 'skelegummy': {'words': 25, 'i_words': 1, 'num_tweets': 1, '%_i': 0.04, '%_you': 0.0, '%_we': 0.0, 'lingstat': 0.0}, 'theonlyp1fan': {'words': 28, 'i_words': 1, 'num_tweets': 1, '%_i': 0.0357, '%_you': 0.0, '%_we': 0.0, 'lingstat': 0.0}, 'kirakanofficial': {'words': 4, 'num_tweets': 1, '%_i': 0.0, '%_you': 0.0, '%_we': 0.0, 'lingstat': 0.0}, 'm4st3r_bl4z3': {'words': 26, 'num_tweets': 1, '%_i': 0.0, '%_you': 0.0, '%_we': 0.0, 'lingstat': 0.0}, 'brokeryann': {'words': 1, 'num_tweets': 1, '%_i': 0.0, '%_you': 0.0, '%_we': 0.0, 'lingstat': 0.0}, 'theromeroguy': {'words': 28, 'i_words': 1, 'num_tweets': 1, '%_i': 0.0357, '%_you': 0.0, '%_we': 0.0, 'lingstat': 0.0}, 'rasponov': {'words': 28, 'i_words': 2, 'num_tweets': 1, '%_i': 0.0714, '%_you': 0.0, '%_we': 0.0, 'lingstat': 0.0}, 'just_alish': {'words': 5, 'num_tweets': 1, '%_i': 0.0, '%_you': 0.0, '%_we': 0.0, 'lingstat': 0.0}, 'pink0uh': {'words': 21, 'i_words': 2, 'num_tweets': 1, '%_i': 0.0952, '%_you': 0.0, '%_we': 0.0, 'lingstat': 0.0}, 'janek_fox': {'words': 9, 'num_tweets': 1, '%_i': 0.0, '%_you': 0.0, '%_we': 0.0, 'lingstat': 0.0}, 'simon_word': {'words': 1836, 'i_words': 45, 'you_words': 5, 'we_words': 9, 'num_tweets': 87, '%_i': 0.0245, '%_you': 0.0027, '%_we': 0.0049, 'lingstat': 0.31020408163265306}, 'mrmakkellb': {'words': 25, 'i_words': 1, 'num_tweets': 1, '%_i': 0.04, '%_you': 0.0, '%_we': 0.0, 'lingstat': 0.0}, 'elmemax2': {'words': 24, 'we_words': 1, 'num_tweets': 2, '%_i': 0.0, '%_you': 0.0, '%_we': 0.0417, 'lingstat': 0.0417}, 'filippecak': {'words': 28, 'i_words': 1, 'num_tweets': 1, '%_i': 0.0357, '%_you': 0.0, '%_we': 0.0, 'lingstat': 0.0}, 'gourune_': {'words': 28, 'num_tweets': 1, '%_i': 0.0, '%_you': 0.0, '%_we': 0.0, 'lingstat': 0.0}, 'u_yousolame': {'words': 28, 'i_words': 2, 'num_tweets': 1, '%_i': 0.0714, '%_you': 0.0, '%_we': 0.0, 'lingstat': 0.0}, 'time5747': {'words': 15, 'we_words': 1, 'num_tweets': 1, '%_i': 0.0, '%_you': 0.0, '%_we': 0.0667, 'lingstat': 0.0667}, 'some1_peculiar': {'words': 29, 'i_words': 3, 'num_tweets': 1, '%_i': 0.1034, '%_you': 0.0, '%_we': 0.0, 'lingstat': 0.0}, 'crazycold739': {'words': 51, 'i_words': 3, 'num_tweets': 2, '%_i': 0.0588, '%_you': 0.0, '%_we': 0.0, 'lingstat': 0.0}, 'ritzin3': {'words': 2, 'num_tweets': 1, '%_i': 0.0, '%_you': 0.0, '%_we': 0.0, 'lingstat': 0.0}, 'facikwacik': {'words': 18, 'num_tweets': 3, '%_i': 0.0, '%_you': 0.0, '%_we': 0.0, 'lingstat': 0.0}, 'zsteck2240': {'words': 21, 'num_tweets': 1, '%_i': 0.0, '%_you': 0.0, '%_we': 0.0, 'lingstat': 0.0}, 'miriplazafn': {'words': 2, 'num_tweets': 1, '%_i': 0.0, '%_you': 0.0, '%_we': 0.0, 'lingstat': 0.0}, 'coffegrand': {'words': 14, 'we_words': 1, 'num_tweets': 1, '%_i': 0.0, '%_you': 0.0, '%_we': 0.0714, 'lingstat': 0.0714}, 'reubendollmanyt': {'words': 24, 'i_words': 1, 'num_tweets': 1, '%_i': 0.0417, '%_you': 0.0, '%_we': 0.0, 'lingstat': 0.0}, 'allenro59644402': {'words': 28, 'i_words': 1, 'num_tweets': 1, '%_i': 0.0357, '%_you': 0.0, '%_we': 0.0, 'lingstat': 0.0}, 'cryoteros': {'words': 21, 'num_tweets': 1, '%_i': 0.0, '%_you': 0.0, '%_we': 0.0, 'lingstat': 0.0}, 'shrekmyfriend': {'words': 7, 'num_tweets': 1, '%_i': 0.0, '%_you': 0.0, '%_we': 0.0, 'lingstat': 0.0}, 'ognik11': {'words': 26, 'num_tweets': 1, '%_i': 0.0, '%_you': 0.0, '%_we': 0.0, 'lingstat': 0.0}, 'leona__450': {'words': 25, 'i_words': 1, 'num_tweets': 1, '%_i': 0.04, '%_you': 0.0, '%_we': 0.0, 'lingstat': 0.0}, 'mrmars222': {'words': 21, 'i_words': 1, 'num_tweets': 1, '%_i': 0.0476, '%_you': 0.0, '%_we': 0.0, 'lingstat': 0.0}, 'bum92508512': {'words': 11, 'num_tweets': 1, '%_i': 0.0, '%_you': 0.0, '%_we': 0.0, 'lingstat': 0.0}, 'babyyfrog_': {'words': 17, 'you_words': 1, 'num_tweets': 1, '%_i': 0.0, '%_you': 0.0588, '%_we': 0.0, 'lingstat': 0.0588}, 'igor22821195': {'words': 10, 'num_tweets': 1, '%_i': 0.0, '%_you': 0.0, '%_we': 0.0, 'lingstat': 0.0}, 'boomboombram': {'words': 11, 'num_tweets': 1, '%_i': 0.0, '%_you': 0.0, '%_we': 0.0, 'lingstat': 0.0}, 'frankseneck': {'words': 8, 'num_tweets': 1, '%_i': 0.0, '%_you': 0.0, '%_we': 0.0, 'lingstat': 0.0}, 'chileanfemboy1': {'words': 7, 'num_tweets': 1, '%_i': 0.0, '%_you': 0.0, '%_we': 0.0, 'lingstat': 0.0}, 'anev83356030': {'words': 8, 'num_tweets': 1, '%_i': 0.0, '%_you': 0.0, '%_we': 0.0, 'lingstat': 0.0}, 'ohyeahmia3': {'words': 31, 'i_words': 2, 'you_words': 1, 'num_tweets': 1, '%_i': 0.0645, '%_you': 0.0323, '%_we': 0.0, 'lingstat': 0.5007751937984496}, 'gabrielchishol5': {'words': 14, 'num_tweets': 1, '%_i': 0.0, '%_you': 0.0, '%_we': 0.0, 'lingstat': 0.0}, 'fedor46811681': {'words': 22, 'i_words': 1, 'we_words': 1, 'num_tweets': 1, '%_i': 0.0455, '%_you': 0.0, '%_we': 0.0455, 'lingstat': 1.0}, 'peeblor': {'words': 25, 'i_words': 1, 'num_tweets': 1, '%_i': 0.04, '%_you': 0.0, '%_we': 0.0, 'lingstat': 0.0}, 'tylerfortnitesx': {'words': 15, 'num_tweets': 1, '%_i': 0.0, '%_you': 0.0, '%_we': 0.0, 'lingstat': 0.0}, 'kattoshi14': {'words': 28, 'i_words': 1, 'num_tweets': 1, '%_i': 0.0357, '%_you': 0.0, '%_we': 0.0, 'lingstat': 0.0}, 'ishipaelmaldito': {'words': 6, 'num_tweets': 1, '%_i': 0.0, '%_you': 0.0, '%_we': 0.0, 'lingstat': 0.0}, 'prajzaa': {'words': 7, 'num_tweets': 1, '%_i': 0.0, '%_you': 0.0, '%_we': 0.0, 'lingstat': 0.0}, 'boxv88': {'words': 29, 'i_words': 1, 'num_tweets': 1, '%_i': 0.0345, '%_you': 0.0, '%_we': 0.0, 'lingstat': 0.0}, 'thewellclub': {'words': 23, 'num_tweets': 1, '%_i': 0.0, '%_you': 0.0, '%_we': 0.0, 'lingstat': 0.0}, 'kingofgeeks1994': {'words': 14, 'num_tweets': 1, '%_i': 0.0, '%_you': 0.0, '%_we': 0.0, 'lingstat': 0.0}, 'elfhirton1': {'words': 29, 'i_words': 1, 'num_tweets': 1, '%_i': 0.0345, '%_you': 0.0, '%_we': 0.0, 'lingstat': 0.0}, 'nukeuak': {'words': 7, 'num_tweets': 1, '%_i': 0.0, '%_you': 0.0, '%_we': 0.0, 'lingstat': 0.0}, 'spoof_king': {'words': 27, 'i_words': 1, 'num_tweets': 1, '%_i': 0.037, '%_you': 0.0, '%_we': 0.0, 'lingstat': 0.0}, 'yishayak': {'words': 17, 'num_tweets': 1, '%_i': 0.0, '%_you': 0.0, '%_we': 0.0, 'lingstat': 0.0}, 'fanmakesart_': {'words': 16, 'i_words': 1, 'num_tweets': 1, '%_i': 0.0625, '%_you': 0.0, '%_we': 0.0, 'lingstat': 0.0}, 'murathet': {'words': 27, 'num_tweets': 1, '%_i': 0.0, '%_you': 0.0, '%_we': 0.0, 'lingstat': 0.0}, 'localfatgamer1': {'words': 28, 'i_words': 1, 'num_tweets': 2, '%_i': 0.0357, '%_you': 0.0, '%_we': 0.0, 'lingstat': 0.0}, 'mathtriqueur': {'words': 39, 'i_words': 4, 'num_tweets': 2, '%_i': 0.1026, '%_you': 0.0, '%_we': 0.0, 'lingstat': 0.0}, '7gamerx15': {'words': 1, 'num_tweets': 1, '%_i': 0.0, '%_you': 0.0, '%_we': 0.0, 'lingstat': 0.0}, 'topmok': {'words': 11, 'you_words': 1, 'num_tweets': 1, '%_i': 0.0, '%_you': 0.0909, '%_we': 0.0, 'lingstat': 0.0909}, 'kijuler': {'words': 26, 'num_tweets': 1, '%_i': 0.0, '%_you': 0.0, '%_we': 0.0, 'lingstat': 0.0}, 'manugtrf': {'words': 12, 'num_tweets': 1, '%_i': 0.0, '%_you': 0.0, '%_we': 0.0, 'lingstat': 0.0}, 'martn69242': {'words': 48, 'num_tweets': 2, '%_i': 0.0, '%_you': 0.0, '%_we': 0.0, 'lingstat': 0.0}, 'yupie_12': {'words': 29, 'i_words': 3, 'num_tweets': 1, '%_i': 0.1034, '%_you': 0.0, '%_we': 0.0, 'lingstat': 0.0}, 'hell0hd': {'words': 2, 'num_tweets': 1, '%_i': 0.0, '%_you': 0.0, '%_we': 0.0, 'lingstat': 0.0}, 'julianmazzuca': {'words': 11, 'num_tweets': 1, '%_i': 0.0, '%_you': 0.0, '%_we': 0.0, 'lingstat': 0.0}, 'dawudawudawuda': {'words': 1, 'num_tweets': 1, '%_i': 0.0, '%_you': 0.0, '%_we': 0.0, 'lingstat': 0.0}, 'bswagolini': {'words': 26, 'i_words': 1, 'num_tweets': 2, '%_i': 0.0385, '%_you': 0.0, '%_we': 0.0, 'lingstat': 0.0}, 'toto_geenen': {'words': 660, 'i_words': 17, 'we_words': 2, 'num_tweets': 39, '%_i': 0.0258, '%_you': 0.0, '%_we': 0.003, 'lingstat': 0.11627906976744186}, 'ntexttospeechtv': {'words': 8, 'num_tweets': 1, '%_i': 0.0, '%_you': 0.0, '%_we': 0.0, 'lingstat': 0.0}, 'razorrboxcutter': {'words': 5, 'num_tweets': 1, '%_i': 0.0, '%_you': 0.0, '%_we': 0.0, 'lingstat': 0.0}, 'jesus18216111': {'words': 3, 'num_tweets': 1, '%_i': 0.0, '%_you': 0.0, '%_we': 0.0, 'lingstat': 0.0}, 'wixxarion': {'words': 4, 'num_tweets': 1, '%_i': 0.0, '%_you': 0.0, '%_we': 0.0, 'lingstat': 0.0}, 'bernsteinluchs_': {'words': 48, 'i_words': 3, 'you_words': 1, 'num_tweets': 2, '%_i': 0.0625, '%_you': 0.0208, '%_we': 0.0, 'lingstat': 0.3328}, 'stupidslowking': {'words': 28, 'i_words': 1, 'num_tweets': 1, '%_i': 0.0357, '%_you': 0.0, '%_we': 0.0, 'lingstat': 0.0}, 'badaabing_de': {'words': 22, 'num_tweets': 1, '%_i': 0.0, '%_you': 0.0, '%_we': 0.0, 'lingstat': 0.0}, 'birbbrain2': {'words': 22, 'num_tweets': 1, '%_i': 0.0, '%_you': 0.0, '%_we': 0.0, 'lingstat': 0.0}, 'gait15002135': {'words': 7, 'num_tweets': 1, '%_i': 0.0, '%_you': 0.0, '%_we': 0.0, 'lingstat': 0.0}, 'fojtikvitek': {'words': 24, 'i_words': 2, 'num_tweets': 1, '%_i': 0.0833, '%_you': 0.0, '%_we': 0.0, 'lingstat': 0.0}, 'thewogbe': {'words': 27, 'i_words': 2, 'num_tweets': 1, '%_i': 0.0741, '%_you': 0.0, '%_we': 0.0, 'lingstat': 0.0}, 'mrchips63038060': {'words': 21, 'num_tweets': 2, '%_i': 0.0, '%_you': 0.0, '%_we': 0.0, 'lingstat': 0.0}, 'seriel18': {'words': 74, 'i_words': 4, 'num_tweets': 3, '%_i': 0.0541, '%_you': 0.0, '%_we': 0.0, 'lingstat': 0.0}, 'n0lansn': {'words': 10, 'num_tweets': 1, '%_i': 0.0, '%_you': 0.0, '%_we': 0.0, 'lingstat': 0.0}, 'penalozalao': {'words': 65, 'num_tweets': 4, '%_i': 0.0, '%_you': 0.0, '%_we': 0.0, 'lingstat': 0.0}, 'casimiroxd2004': {'words': 12, 'i_words': 1, 'num_tweets': 1, '%_i': 0.0833, '%_you': 0.0, '%_we': 0.0, 'lingstat': 0.0}, 'adam96557402': {'words': 4, 'num_tweets': 1, '%_i': 0.0, '%_you': 0.0, '%_we': 0.0, 'lingstat': 0.0}, 'system64exe': {'words': 17, 'we_words': 2, 'num_tweets': 1, '%_i': 0.0, '%_you': 0.0, '%_we': 0.1176, 'lingstat': 0.1176}, 'lostugandansong': {'words': 2, 'num_tweets': 1, '%_i': 0.0, '%_you': 0.0, '%_we': 0.0, 'lingstat': 0.0}, 'anonymous88895': {'words': 26, 'num_tweets': 6, '%_i': 0.0, '%_you': 0.0, '%_we': 0.0, 'lingstat': 0.0}, 'thee_kopje': {'words': 7, 'num_tweets': 1, '%_i': 0.0, '%_you': 0.0, '%_we': 0.0, 'lingstat': 0.0}, 'tomassburack_': {'words': 30, 'i_words': 3, 'num_tweets': 1, '%_i': 0.1, '%_you': 0.0, '%_we': 0.0, 'lingstat': 0.0}, 'robertillman': {'words': 29, 'num_tweets': 1, '%_i': 0.0, '%_you': 0.0, '%_we': 0.0, 'lingstat': 0.0}, 'andrew_laskin': {'words': 9, 'num_tweets': 1, '%_i': 0.0, '%_you': 0.0, '%_we': 0.0, 'lingstat': 0.0}, 'basicpork': {'words': 27, 'i_words': 1, 'num_tweets': 1, '%_i': 0.037, '%_you': 0.0, '%_we': 0.0, 'lingstat': 0.0}, 'kellythesfmer': {'words': 26, 'num_tweets': 1, '%_i': 0.0, '%_you': 0.0, '%_we': 0.0, 'lingstat': 0.0}, 'mrgameandplay2': {'words': 24, 'num_tweets': 1, '%_i': 0.0, '%_you': 0.0, '%_we': 0.0, 'lingstat': 0.0}, 'agorikroll': {'words': 27, 'num_tweets': 1, '%_i': 0.0, '%_you': 0.0, '%_we': 0.0, 'lingstat': 0.0}, 'doce171': {'words': 2, 'num_tweets': 1, '%_i': 0.0, '%_you': 0.0, '%_we': 0.0, 'lingstat': 0.0}, 'seeya_le': {'words': 27, 'num_tweets': 1, '%_i': 0.0, '%_you': 0.0, '%_we': 0.0, 'lingstat': 0.0}, 'chechechara': {'words': 26, 'i_words': 1, 'num_tweets': 1, '%_i': 0.0385, '%_you': 0.0, '%_we': 0.0, 'lingstat': 0.0}, 'mr_cockx': {'words': 27, 'i_words': 1, 'num_tweets': 1, '%_i': 0.037, '%_you': 0.0, '%_we': 0.0, 'lingstat': 0.0}, 'defelzz': {'words': 18, 'num_tweets': 2, '%_i': 0.0, '%_you': 0.0, '%_we': 0.0, 'lingstat': 0.0}, 'henriknotjimi': {'words': 11, 'num_tweets': 1, '%_i': 0.0, '%_you': 0.0, '%_we': 0.0, 'lingstat': 0.0}, 'botorx9': {'words': 26, 'we_words': 1, 'num_tweets': 1, '%_i': 0.0, '%_you': 0.0, '%_we': 0.0385, 'lingstat': 0.0385}, 'okaywegood': {'words': 86, 'i_words': 2, 'we_words': 2, 'num_tweets': 3, '%_i': 0.0233, '%_you': 0.0, '%_we': 0.0233, 'lingstat': 1.0}, 'glacialgrater': {'words': 27, 'i_words': 2, 'num_tweets': 1, '%_i': 0.0741, '%_you': 0.0, '%_we': 0.0, 'lingstat': 0.0}, 'itsyaboimason1': {'words': 22, 'you_words': 1, 'num_tweets': 1, '%_i': 0.0, '%_you': 0.0455, '%_we': 0.0, 'lingstat': 0.0455}, 'kras083': {'words': 4, 'num_tweets': 1, '%_i': 0.0, '%_you': 0.0, '%_we': 0.0, 'lingstat': 0.0}, 'adimadlad': {'words': 15, 'you_words': 2, 'num_tweets': 1, '%_i': 0.0, '%_you': 0.1333, '%_we': 0.0, 'lingstat': 0.1333}, 'melvin8d': {'words': 18, 'num_tweets': 2, '%_i': 0.0, '%_you': 0.0, '%_we': 0.0, 'lingstat': 0.0}, 'bamitzevil': {'words': 7, 'num_tweets': 1, '%_i': 0.0, '%_you': 0.0, '%_we': 0.0, 'lingstat': 0.0}, 'osielmz': {'words': 4, 'num_tweets': 1, '%_i': 0.0, '%_you': 0.0, '%_we': 0.0, 'lingstat': 0.0}, 'trigu999': {'words': 8, 'num_tweets': 1, '%_i': 0.0, '%_you': 0.0, '%_we': 0.0, 'lingstat': 0.0}, 'heman0k': {'words': 4, 'num_tweets': 1, '%_i': 0.0, '%_you': 0.0, '%_we': 0.0, 'lingstat': 0.0}, 'balriam': {'words': 2, 'num_tweets': 1, '%_i': 0.0, '%_you': 0.0, '%_we': 0.0, 'lingstat': 0.0}, 'deku_phazon': {'words': 25, 'num_tweets': 1, '%_i': 0.0, '%_you': 0.0, '%_we': 0.0, 'lingstat': 0.0}, 'scouttf219': {'words': 29, 'you_words': 1, 'num_tweets': 1, '%_i': 0.0, '%_you': 0.0345, '%_we': 0.0, 'lingstat': 0.0345}, 'aducknamedlucas': {'words': 26, 'num_tweets': 1, '%_i': 0.0, '%_you': 0.0, '%_we': 0.0, 'lingstat': 0.0}, 'sulkiscord': {'words': 68, 'num_tweets': 3, '%_i': 0.0, '%_you': 0.0, '%_we': 0.0, 'lingstat': 0.0}, '3rd_lib': {'words': 7, 'num_tweets': 1, '%_i': 0.0, '%_you': 0.0, '%_we': 0.0, 'lingstat': 0.0}, 'akira2nm': {'words': 25, 'num_tweets': 1, '%_i': 0.0, '%_you': 0.0, '%_we': 0.0, 'lingstat': 0.0}, 'mateusz91495562': {'words': 18, 'num_tweets': 1, '%_i': 0.0, '%_you': 0.0, '%_we': 0.0, 'lingstat': 0.0}, 'mynameisnotyo19': {'words': 10, 'num_tweets': 2, '%_i': 0.0, '%_you': 0.0, '%_we': 0.0, 'lingstat': 0.0}, 'thatguy56039387': {'words': 34, 'i_words': 1, 'we_words': 1, 'num_tweets': 2, '%_i': 0.0294, '%_you': 0.0, '%_we': 0.0294, 'lingstat': 1.0}, 'veteran_dino': {'words': 8, 'i_words': 1, 'num_tweets': 1, '%_i': 0.125, '%_you': 0.0, '%_we': 0.0, 'lingstat': 0.0}, 'therbxcommunity': {'words': 5, 'num_tweets': 1, '%_i': 0.0, '%_you': 0.0, '%_we': 0.0, 'lingstat': 0.0}, 'haha_this_isme': {'words': 3, 'num_tweets': 1, '%_i': 0.0, '%_you': 0.0, '%_we': 0.0, 'lingstat': 0.0}, 'henry58269953': {'words': 35, 'i_words': 1, 'we_words': 1, 'num_tweets': 1, '%_i': 0.0286, '%_you': 0.0, '%_we': 0.0286, 'lingstat': 1.0}, 'fnafowiec1': {'words': 15, 'num_tweets': 1, '%_i': 0.0, '%_you': 0.0, '%_we': 0.0, 'lingstat': 0.0}, 'coolguy77773108': {'words': 13, 'i_words': 1, 'num_tweets': 2, '%_i': 0.0769, '%_you': 0.0, '%_we': 0.0, 'lingstat': 0.0}, 'finnthelackey': {'words': 35, 'i_words': 1, 'we_words': 1, 'num_tweets': 1, '%_i': 0.0286, '%_you': 0.0, '%_we': 0.0286, 'lingstat': 1.0}, 'selfiefox': {'words': 29, 'i_words': 3, 'num_tweets': 1, '%_i': 0.1034, '%_you': 0.0, '%_we': 0.0, 'lingstat': 0.0}, 'subject_dim': {'words': 35, 'i_words': 1, 'we_words': 1, 'num_tweets': 1, '%_i': 0.0286, '%_you': 0.0, '%_we': 0.0286, 'lingstat': 1.0}, 'cogneeto0': {'words': 35, 'i_words': 1, 'we_words': 1, 'num_tweets': 1, '%_i': 0.0286, '%_you': 0.0, '%_we': 0.0286, 'lingstat': 1.0}, 'emanueljdv34': {'words': 35, 'i_words': 1, 'we_words': 1, 'num_tweets': 1, '%_i': 0.0286, '%_you': 0.0, '%_we': 0.0286, 'lingstat': 1.0}, 'kobazinsan': {'words': 35, 'i_words': 1, 'we_words': 1, 'num_tweets': 1, '%_i': 0.0286, '%_you': 0.0, '%_we': 0.0286, 'lingstat': 1.0}, 'vicevulkrean': {'words': 21, 'num_tweets': 1, '%_i': 0.0, '%_you': 0.0, '%_we': 0.0, 'lingstat': 0.0}, 'aemoment1': {'words': 8, 'i_words': 1, 'num_tweets': 1, '%_i': 0.125, '%_you': 0.0, '%_we': 0.0, 'lingstat': 0.0}, 'chuvithe': {'words': 7, 'num_tweets': 1, '%_i': 0.0, '%_you': 0.0, '%_we': 0.0, 'lingstat': 0.0}, '1spinola': {'words': 6, 'num_tweets': 1, '%_i': 0.0, '%_you': 0.0, '%_we': 0.0, 'lingstat': 0.0}, 'kasd0r': {'words': 34, 'num_tweets': 2, '%_i': 0.0, '%_you': 0.0, '%_we': 0.0, 'lingstat': 0.0}, 'fucktw1tterlmao': {'words': 21, 'num_tweets': 1, '%_i': 0.0, '%_you': 0.0, '%_we': 0.0, 'lingstat': 0.0}, 'chrisyolomoney': {'words': 24, 'num_tweets': 1, '%_i': 0.0, '%_you': 0.0, '%_we': 0.0, 'lingstat': 0.0}, 'the45ishere': {'words': 35, 'i_words': 1, 'we_words': 1, 'num_tweets': 1, '%_i': 0.0286, '%_you': 0.0, '%_we': 0.0286, 'lingstat': 1.0}, 'thesilent_hero': {'words': 30, 'i_words': 2, 'num_tweets': 1, '%_i': 0.0667, '%_you': 0.0, '%_we': 0.0, 'lingstat': 0.0}, 'tylerzachary22': {'words': 29, 'i_words': 1, 'num_tweets': 1, '%_i': 0.0345, '%_you': 0.0, '%_we': 0.0, 'lingstat': 0.0}, 'shirt_2': {'words': 30, 'i_words': 1, 'num_tweets': 1, '%_i': 0.0333, '%_you': 0.0, '%_we': 0.0, 'lingstat': 0.0}, 'sarmatamlodyg': {'words': 2, 'num_tweets': 1, '%_i': 0.0, '%_you': 0.0, '%_we': 0.0, 'lingstat': 0.0}, 'droideka_exe': {'words': 59, 'you_words': 1, 'num_tweets': 3, '%_i': 0.0, '%_you': 0.0169, '%_we': 0.0, 'lingstat': 0.0169}, 'pacusito2': {'words': 19, 'num_tweets': 1, '%_i': 0.0, '%_you': 0.0, '%_we': 0.0, 'lingstat': 0.0}, 'cai_zerox': {'words': 35, 'i_words': 1, 'we_words': 1, 'num_tweets': 1, '%_i': 0.0286, '%_you': 0.0, '%_we': 0.0286, 'lingstat': 1.0}, 'symnesiac': {'words': 34, 'num_tweets': 1, '%_i': 0.0, '%_you': 0.0, '%_we': 0.0, 'lingstat': 0.0}, 'tyton_w_kubku': {'words': 32, 'num_tweets': 1, '%_i': 0.0, '%_you': 0.0, '%_we': 0.0, 'lingstat': 0.0}, 'jackson28976936': {'words': 8, 'i_words': 1, 'num_tweets': 1, '%_i': 0.125, '%_you': 0.0, '%_we': 0.0, 'lingstat': 0.0}, 'elijaht48169726': {'words': 27, 'num_tweets': 1, '%_i': 0.0, '%_you': 0.0, '%_we': 0.0, 'lingstat': 0.0}, 'upyment': {'words': 35, 'i_words': 1, 'we_words': 1, 'num_tweets': 1, '%_i': 0.0286, '%_you': 0.0, '%_we': 0.0286, 'lingstat': 1.0}, 'blassu3': {'words': 53, 'num_tweets': 2, '%_i': 0.0, '%_you': 0.0, '%_we': 0.0, 'lingstat': 0.0}, 'rpcgamingg': {'words': 10, 'num_tweets': 1, '%_i': 0.0, '%_you': 0.0, '%_we': 0.0, 'lingstat': 0.0}, 'rabdiavoy_xt': {'words': 21, 'i_words': 1, 'you_words': 2, 'we_words': 1, 'num_tweets': 1, '%_i': 0.0476, '%_you': 0.0952, '%_we': 0.0476, 'lingstat': 3.0}, 'gaminggavin2020': {'words': 13, 'num_tweets': 1, '%_i': 0.0, '%_you': 0.0, '%_we': 0.0, 'lingstat': 0.0}, 'noobjew666': {'words': 13, 'num_tweets': 1, '%_i': 0.0, '%_you': 0.0, '%_we': 0.0, 'lingstat': 0.0}, 'dracoshroobrc': {'words': 26, 'i_words': 1, 'num_tweets': 1, '%_i': 0.0385, '%_you': 0.0, '%_we': 0.0, 'lingstat': 0.0}, 'local_jackass': {'words': 25, 'i_words': 1, 'num_tweets': 1, '%_i': 0.04, '%_you': 0.0, '%_we': 0.0, 'lingstat': 0.0}, 'wynnefox': {'words': 27, 'num_tweets': 1, '%_i': 0.0, '%_you': 0.0, '%_we': 0.0, 'lingstat': 0.0}, 'airconditiner5': {'words': 10, 'num_tweets': 1, '%_i': 0.0, '%_you': 0.0, '%_we': 0.0, 'lingstat': 0.0}, 'faddwini': {'words': 13, 'num_tweets': 1, '%_i': 0.0, '%_you': 0.0, '%_we': 0.0, 'lingstat': 0.0}, 'iyysakk': {'words': 6, 'we_words': 1, 'num_tweets': 1, '%_i': 0.0, '%_you': 0.0, '%_we': 0.1667, 'lingstat': 0.1667}, 'mrdarwisygaming': {'words': 4, 'num_tweets': 1, '%_i': 0.0, '%_you': 0.0, '%_we': 0.0, 'lingstat': 0.0}, 'chidogamer2': {'words': 10, 'num_tweets': 1, '%_i': 0.0, '%_you': 0.0, '%_we': 0.0, 'lingstat': 0.0}, 'kopikatzz': {'words': 29, 'i_words': 1, 'num_tweets': 1, '%_i': 0.0345, '%_you': 0.0, '%_we': 0.0, 'lingstat': 0.0}, 'konobatom': {'words': 15, 'num_tweets': 1, '%_i': 0.0, '%_you': 0.0, '%_we': 0.0, 'lingstat': 0.0}, 'iikingstan': {'words': 31, 'i_words': 2, 'num_tweets': 1, '%_i': 0.0645, '%_you': 0.0, '%_we': 0.0, 'lingstat': 0.0}, 'alexgameover_13': {'words': 35, 'i_words': 1, 'we_words': 1, 'num_tweets': 1, '%_i': 0.0286, '%_you': 0.0, '%_we': 0.0286, 'lingstat': 1.0}, 'typingandwiping': {'words': 22, 'num_tweets': 1, '%_i': 0.0, '%_you': 0.0, '%_we': 0.0, 'lingstat': 0.0}, 'cactuskur': {'words': 9, 'num_tweets': 1, '%_i': 0.0, '%_you': 0.0, '%_we': 0.0, 'lingstat': 0.0}, 'tclegacy06': {'words': 5, 'num_tweets': 1, '%_i': 0.0, '%_you': 0.0, '%_we': 0.0, 'lingstat': 0.0}, 'had3s_drown': {'words': 35, 'i_words': 1, 'we_words': 1, 'num_tweets': 1, '%_i': 0.0286, '%_you': 0.0, '%_we': 0.0286, 'lingstat': 1.0}, 'official_psasd': {'words': 35, 'i_words': 1, 'we_words': 1, 'num_tweets': 1, '%_i': 0.0286, '%_you': 0.0, '%_we': 0.0286, 'lingstat': 1.0}, 'jinahope1': {'words': 4, 'num_tweets': 1, '%_i': 0.0, '%_you': 0.0, '%_we': 0.0, 'lingstat': 0.0}, 'elijah88181326': {'words': 25, 'num_tweets': 2, '%_i': 0.0, '%_you': 0.0, '%_we': 0.0, 'lingstat': 0.0}, 'ace61077009': {'words': 26, 'i_words': 1, 'you_words': 1, 'we_words': 1, 'num_tweets': 1, '%_i': 0.0385, '%_you': 0.0385, '%_we': 0.0385, 'lingstat': 2.0}, 'psych0ghoul': {'words': 30, 'num_tweets': 1, '%_i': 0.0, '%_you': 0.0, '%_we': 0.0, 'lingstat': 0.0}, 'phoenix_hx': {'words': 35, 'i_words': 1, 'we_words': 1, 'num_tweets': 1, '%_i': 0.0286, '%_you': 0.0, '%_we': 0.0286, 'lingstat': 1.0}, 'potatodraws55': {'words': 29, 'num_tweets': 1, '%_i': 0.0, '%_you': 0.0, '%_we': 0.0, 'lingstat': 0.0}, 'imlostatthemall': {'words': 30, 'num_tweets': 1, '%_i': 0.0, '%_you': 0.0, '%_we': 0.0, 'lingstat': 0.0}, 'chima9000': {'words': 4, 'num_tweets': 1, '%_i': 0.0, '%_you': 0.0, '%_we': 0.0, 'lingstat': 0.0}, 'yellowsubmsrine': {'words': 47, 'we_words': 1, 'num_tweets': 3, '%_i': 0.0, '%_you': 0.0, '%_we': 0.0213, 'lingstat': 0.0213}, 'majounlimited': {'words': 13, 'num_tweets': 1, '%_i': 0.0, '%_you': 0.0, '%_we': 0.0, 'lingstat': 0.0}, 'coolgamerbro650': {'words': 35, 'i_words': 1, 'we_words': 1, 'num_tweets': 1, '%_i': 0.0286, '%_you': 0.0, '%_we': 0.0286, 'lingstat': 1.0}, 'doverstwt': {'words': 2, 'num_tweets': 1, '%_i': 0.0, '%_you': 0.0, '%_we': 0.0, 'lingstat': 0.0}, 'davidho10673262': {'words': 14, 'num_tweets': 1, '%_i': 0.0, '%_you': 0.0, '%_we': 0.0, 'lingstat': 0.0}, 'halve_11': {'words': 8, 'num_tweets': 1, '%_i': 0.0, '%_you': 0.0, '%_we': 0.0, 'lingstat': 0.0}, 'mechanicalmagi3': {'words': 10, 'we_words': 1, 'num_tweets': 1, '%_i': 0.0, '%_you': 0.0, '%_we': 0.1, 'lingstat': 0.1}, 'creative0name': {'words': 10, 'i_words': 1, 'num_tweets': 1, '%_i': 0.1, '%_you': 0.0, '%_we': 0.0, 'lingstat': 0.0}, 'cosmosgalaxia': {'words': 27, 'num_tweets': 1, '%_i': 0.0, '%_you': 0.0, '%_we': 0.0, 'lingstat': 0.0}, 'gustavofritz15': {'words': 51, 'num_tweets': 3, '%_i': 0.0, '%_you': 0.0, '%_we': 0.0, 'lingstat': 0.0}, 'xenogenicyt': {'words': 29, 'we_words': 1, 'num_tweets': 1, '%_i': 0.0, '%_you': 0.0, '%_we': 0.0345, 'lingstat': 0.0345}, 'undercover1055': {'words': 42, 'you_words': 1, 'we_words': 1, 'num_tweets': 3, '%_i': 0.0, '%_you': 0.0238, '%_we': 0.0238, 'lingstat': 0.0476}, 'vtrjex': {'words': 27, 'i_words': 2, 'num_tweets': 1, '%_i': 0.0741, '%_you': 0.0, '%_we': 0.0, 'lingstat': 0.0}, 'limpshrimp42': {'words': 20, 'num_tweets': 1, '%_i': 0.0, '%_you': 0.0, '%_we': 0.0, 'lingstat': 0.0}, 'joseflo09807450': {'words': 7, 'num_tweets': 1, '%_i': 0.0, '%_you': 0.0, '%_we': 0.0, 'lingstat': 0.0}, 'lehonkey': {'words': 7, 'num_tweets': 1, '%_i': 0.0, '%_you': 0.0, '%_we': 0.0, 'lingstat': 0.0}, 'jose51403279': {'words': 1, 'num_tweets': 1, '%_i': 0.0, '%_you': 0.0, '%_we': 0.0, 'lingstat': 0.0}, 'ohgaryboi': {'words': 2, 'num_tweets': 1, '%_i': 0.0, '%_you': 0.0, '%_we': 0.0, 'lingstat': 0.0}, 'rompopevp': {'words': 33, 'num_tweets': 1, '%_i': 0.0, '%_you': 0.0, '%_we': 0.0, 'lingstat': 0.0}, 'resteria27': {'words': 23, 'num_tweets': 1, '%_i': 0.0, '%_you': 0.0, '%_we': 0.0, 'lingstat': 0.0}, 'hassan60831535': {'words': 25, 'num_tweets': 1, '%_i': 0.0, '%_you': 0.0, '%_we': 0.0, 'lingstat': 0.0}, '_retkid_': {'words': 4, 'num_tweets': 1, '%_i': 0.0, '%_you': 0.0, '%_we': 0.0, 'lingstat': 0.0}, 'thejxr1': {'words': 35, 'num_tweets': 2, '%_i': 0.0, '%_you': 0.0, '%_we': 0.0, 'lingstat': 0.0}, 'r0ch4glz': {'words': 33, 'num_tweets': 1, '%_i': 0.0, '%_you': 0.0, '%_we': 0.0, 'lingstat': 0.0}, 'killtime01': {'words': 31, 'i_words': 1, 'num_tweets': 1, '%_i': 0.0323, '%_you': 0.0, '%_we': 0.0, 'lingstat': 0.0}, 'naofumi26255364': {'words': 27, 'i_words': 1, 'num_tweets': 1, '%_i': 0.037, '%_you': 0.0, '%_we': 0.0, 'lingstat': 0.0}, 'longrangedog': {'words': 16, 'num_tweets': 1, '%_i': 0.0, '%_you': 0.0, '%_we': 0.0, 'lingstat': 0.0}, 'selevfour': {'words': 17, 'num_tweets': 1, '%_i': 0.0, '%_you': 0.0, '%_we': 0.0, 'lingstat': 0.0}, 'tvrk777': {'words': 4, 'num_tweets': 1, '%_i': 0.0, '%_you': 0.0, '%_we': 0.0, 'lingstat': 0.0}, 'jugadordepley3': {'words': 5, 'num_tweets': 1, '%_i': 0.0, '%_you': 0.0, '%_we': 0.0, 'lingstat': 0.0}, 'oscar_klppr': {'words': 9, 'num_tweets': 1, '%_i': 0.0, '%_you': 0.0, '%_we': 0.0, 'lingstat': 0.0}, 'iberrykarsen': {'words': 25, 'num_tweets': 1, '%_i': 0.0, '%_you': 0.0, '%_we': 0.0, 'lingstat': 0.0}, 'dude_stay': {'words': 54, 'num_tweets': 3, '%_i': 0.0, '%_you': 0.0, '%_we': 0.0, 'lingstat': 0.0}, 'geekgem1': {'words': 26, 'num_tweets': 1, '%_i': 0.0, '%_you': 0.0, '%_we': 0.0, 'lingstat': 0.0}, 'amarillitadaira': {'words': 30, 'num_tweets': 1, '%_i': 0.0, '%_you': 0.0, '%_we': 0.0, 'lingstat': 0.0}, 'velentine__': {'words': 33, 'num_tweets': 1, '%_i': 0.0, '%_you': 0.0, '%_we': 0.0, 'lingstat': 0.0}, 'taunt_yt': {'words': 13, 'num_tweets': 1, '%_i': 0.0, '%_you': 0.0, '%_we': 0.0, 'lingstat': 0.0}, 'zzauza': {'words': 63, 'num_tweets': 1, '%_i': 0.0, '%_you': 0.0, '%_we': 0.0, 'lingstat': 0.0}, 'nathaniel165579': {'words': 35, 'i_words': 1, 'we_words': 1, 'num_tweets': 1, '%_i': 0.0286, '%_you': 0.0, '%_we': 0.0286, 'lingstat': 1.0}, 'browy01': {'words': 3, 'num_tweets': 1, '%_i': 0.0, '%_you': 0.0, '%_we': 0.0, 'lingstat': 0.0}, 'iamcoolinnit': {'words': 17, 'num_tweets': 1, '%_i': 0.0, '%_you': 0.0, '%_we': 0.0, 'lingstat': 0.0}, 'whipeeeee': {'words': 2, 'num_tweets': 1, '%_i': 0.0, '%_you': 0.0, '%_we': 0.0, 'lingstat': 0.0}, 'dejdothecringe': {'words': 31, 'i_words': 1, 'you_words': 1, 'we_words': 3, 'num_tweets': 1, '%_i': 0.0323, '%_you': 0.0323, '%_we': 0.0968, 'lingstat': 3.9969040247678014}, 'daniel_joestarr': {'words': 11, 'num_tweets': 2, '%_i': 0.0, '%_you': 0.0, '%_we': 0.0, 'lingstat': 0.0}, 'nutzoze': {'words': 28, 'i_words': 1, 'num_tweets': 1, '%_i': 0.0357, '%_you': 0.0, '%_we': 0.0, 'lingstat': 0.0}, 'flettive': {'words': 20, 'you_words': 1, 'num_tweets': 1, '%_i': 0.0, '%_you': 0.05, '%_we': 0.0, 'lingstat': 0.05}, 'paulussoler': {'words': 27, 'num_tweets': 2, '%_i': 0.0, '%_you': 0.0, '%_we': 0.0, 'lingstat': 0.0}, 'yauntihunter': {'words': 33, 'i_words': 2, 'num_tweets': 1, '%_i': 0.0606, '%_you': 0.0, '%_we': 0.0, 'lingstat': 0.0}, 'mnightangle': {'words': 35, 'i_words': 1, 'we_words': 1, 'num_tweets': 1, '%_i': 0.0286, '%_you': 0.0, '%_we': 0.0286, 'lingstat': 1.0}, 'sir_pew_pew_pew': {'words': 1, 'num_tweets': 1, '%_i': 0.0, '%_you': 0.0, '%_we': 0.0, 'lingstat': 0.0}, 'fazbear38': {'words': 1, 'num_tweets': 1, '%_i': 0.0, '%_you': 0.0, '%_we': 0.0, 'lingstat': 0.0}, 'dedoubleyouel': {'words': 28, 'i_words': 3, 'num_tweets': 1, '%_i': 0.1071, '%_you': 0.0, '%_we': 0.0, 'lingstat': 0.0}, 'maddindono': {'words': 29, 'i_words': 3, 'num_tweets': 1, '%_i': 0.1034, '%_you': 0.0, '%_we': 0.0, 'lingstat': 0.0}, '300gprotein': {'words': 30, 'i_words': 1, 'num_tweets': 1, '%_i': 0.0333, '%_you': 0.0, '%_we': 0.0, 'lingstat': 0.0}, 'cedricolly1': {'words': 30, 'num_tweets': 2, '%_i': 0.0, '%_you': 0.0, '%_we': 0.0, 'lingstat': 0.0}, 'sirhydee': {'words': 13, 'num_tweets': 1, '%_i': 0.0, '%_you': 0.0, '%_we': 0.0, 'lingstat': 0.0}, 'lambdagenposts': {'words': 22, 'num_tweets': 1, '%_i': 0.0, '%_you': 0.0, '%_we': 0.0, 'lingstat': 0.0}, 'kronas_': {'words': 5, 'num_tweets': 1, '%_i': 0.0, '%_you': 0.0, '%_we': 0.0, 'lingstat': 0.0}, 'beholdtheimp': {'words': 5, 'num_tweets': 1, '%_i': 0.0, '%_you': 0.0, '%_we': 0.0, 'lingstat': 0.0}, 'ffarquhard': {'words': 24, 'i_words': 1, 'num_tweets': 1, '%_i': 0.0417, '%_you': 0.0, '%_we': 0.0, 'lingstat': 0.0}, 'northwestrdude': {'words': 25, 'i_words': 1, 'num_tweets': 1, '%_i': 0.04, '%_you': 0.0, '%_we': 0.0, 'lingstat': 0.0}, 'cheese_manss': {'words': 5, 'num_tweets': 1, '%_i': 0.0, '%_you': 0.0, '%_we': 0.0, 'lingstat': 0.0}, 'stanek21111': {'words': 35, 'i_words': 1, 'we_words': 1, 'num_tweets': 1, '%_i': 0.0286, '%_you': 0.0, '%_we': 0.0286, 'lingstat': 1.0}, 'josh47157753': {'words': 33, 'i_words': 2, 'num_tweets': 1, '%_i': 0.0606, '%_you': 0.0, '%_we': 0.0, 'lingstat': 0.0}, 'kapikropi': {'words': 3, 'num_tweets': 1, '%_i': 0.0, '%_you': 0.0, '%_we': 0.0, 'lingstat': 0.0}, 'victorwallec': {'words': 332, 'i_words': 1, 'you_words': 1, 'we_words': 2, 'num_tweets': 17, '%_i': 0.003, '%_you': 0.003, '%_we': 0.006, 'lingstat': 3.0000000000000004}, 'derdiedasjan136': {'words': 25, 'we_words': 1, 'num_tweets': 1, '%_i': 0.0, '%_you': 0.0, '%_we': 0.04, 'lingstat': 0.04}, 'ciejezus': {'words': 17, 'i_words': 1, 'num_tweets': 1, '%_i': 0.0588, '%_you': 0.0, '%_we': 0.0, 'lingstat': 0.0}, 'zoomviex': {'words': 6, 'num_tweets': 1, '%_i': 0.0, '%_you': 0.0, '%_we': 0.0, 'lingstat': 0.0}, 'pogo_the_goat': {'words': 28, 'you_words': 1, 'we_words': 1, 'num_tweets': 1, '%_i': 0.0, '%_you': 0.0357, '%_we': 0.0357, 'lingstat': 0.0714}, 'bombineer': {'words': 28, 'num_tweets': 1, '%_i': 0.0, '%_you': 0.0, '%_we': 0.0, 'lingstat': 0.0}, 'jjjjjjatr': {'words': 10, 'num_tweets': 1, '%_i': 0.0, '%_you': 0.0, '%_we': 0.0, 'lingstat': 0.0}, 'srechna1': {'words': 15, 'num_tweets': 1, '%_i': 0.0, '%_you': 0.0, '%_we': 0.0, 'lingstat': 0.0}, 'redsoney': {'words': 37, 'num_tweets': 1, '%_i': 0.0, '%_you': 0.0, '%_we': 0.0, 'lingstat': 0.0}, 'amonix_ghost': {'words': 4, 'num_tweets': 1, '%_i': 0.0, '%_you': 0.0, '%_we': 0.0, 'lingstat': 0.0}, 'steinerteddylp': {'words': 4, 'num_tweets': 1, '%_i': 0.0, '%_you': 0.0, '%_we': 0.0, 'lingstat': 0.0}, 'aquaintlad': {'words': 23, 'num_tweets': 1, '%_i': 0.0, '%_you': 0.0, '%_we': 0.0, 'lingstat': 0.0}, 'bjorngomes': {'words': 23, 'i_words': 1, 'num_tweets': 1, '%_i': 0.0435, '%_you': 0.0, '%_we': 0.0, 'lingstat': 0.0}, 'general5345': {'words': 2, 'num_tweets': 1, '%_i': 0.0, '%_you': 0.0, '%_we': 0.0, 'lingstat': 0.0}, 'kenz__val': {'words': 8, 'num_tweets': 1, '%_i': 0.0, '%_you': 0.0, '%_we': 0.0, 'lingstat': 0.0}, 'dialga22239': {'words': 29, 'i_words': 2, 'num_tweets': 1, '%_i': 0.069, '%_you': 0.0, '%_we': 0.0, 'lingstat': 0.0}, 'janpen_8': {'words': 30, 'i_words': 2, 'num_tweets': 1, '%_i': 0.0667, '%_you': 0.0, '%_we': 0.0, 'lingstat': 0.0}, 'hanz_jon': {'words': 30, 'we_words': 1, 'num_tweets': 1, '%_i': 0.0, '%_you': 0.0, '%_we': 0.0333, 'lingstat': 0.0333}, 'jokertn84': {'words': 4, 'num_tweets': 1, '%_i': 0.0, '%_you': 0.0, '%_we': 0.0, 'lingstat': 0.0}, 'benben377': {'words': 33, 'i_words': 2, 'num_tweets': 1, '%_i': 0.0606, '%_you': 0.0, '%_we': 0.0, 'lingstat': 0.0}, 'noshowmichelle': {'words': 15, 'we_words': 1, 'num_tweets': 1, '%_i': 0.0, '%_you': 0.0, '%_we': 0.0667, 'lingstat': 0.0667}, 'turtlententacle': {'words': 35, 'i_words': 1, 'we_words': 1, 'num_tweets': 1, '%_i': 0.0286, '%_you': 0.0, '%_we': 0.0286, 'lingstat': 1.0}, 'consta_lume': {'words': 21, 'num_tweets': 1, '%_i': 0.0, '%_you': 0.0, '%_we': 0.0, 'lingstat': 0.0}, 'l_luna_1998': {'words': 21, 'num_tweets': 1, '%_i': 0.0, '%_you': 0.0, '%_we': 0.0, 'lingstat': 0.0}, 'jamesmarshallha': {'words': 21, 'num_tweets': 1, '%_i': 0.0, '%_you': 0.0, '%_we': 0.0, 'lingstat': 0.0}, 'bettercallheis': {'words': 21, 'num_tweets': 1, '%_i': 0.0, '%_you': 0.0, '%_we': 0.0, 'lingstat': 0.0}, 'ariethefloof': {'words': 17, 'num_tweets': 2, '%_i': 0.0, '%_you': 0.0, '%_we': 0.0, 'lingstat': 0.0}, 'shorktf2': {'words': 33, 'i_words': 1, 'we_words': 1, 'num_tweets': 1, '%_i': 0.0303, '%_you': 0.0, '%_we': 0.0303, 'lingstat': 1.0}, 'savetf2archive': {'words': 35, 'i_words': 1, 'we_words': 1, 'num_tweets': 1, '%_i': 0.0286, '%_you': 0.0, '%_we': 0.0286, 'lingstat': 1.0}, 'benjami02273209': {'words': 1, 'num_tweets': 1, '%_i': 0.0, '%_you': 0.0, '%_we': 0.0, 'lingstat': 0.0}, 'voronoir_': {'words': 11, 'num_tweets': 1, '%_i': 0.0, '%_you': 0.0, '%_we': 0.0, 'lingstat': 0.0}, 'piedrapreciosa3': {'words': 1, 'num_tweets': 1, '%_i': 0.0, '%_you': 0.0, '%_we': 0.0, 'lingstat': 0.0}, 'matienk0': {'words': 29, 'i_words': 2, 'you_words': 1, 'we_words': 1, 'num_tweets': 1, '%_i': 0.069, '%_you': 0.0345, '%_we': 0.0345, 'lingstat': 1.0}, 'mrluckymen': {'words': 7, 'you_words': 1, 'we_words': 1, 'num_tweets': 1, '%_i': 0.0, '%_you': 0.1429, '%_we': 0.1429, 'lingstat': 0.2858}, 'aquarioce': {'words': 24, 'i_words': 2, 'num_tweets': 1, '%_i': 0.0833, '%_you': 0.0, '%_we': 0.0, 'lingstat': 0.0}, 'maximoh52085382': {'words': 4, 'num_tweets': 1, '%_i': 0.0, '%_you': 0.0, '%_we': 0.0, 'lingstat': 0.0}, 'osoponso': {'words': 37, 'num_tweets': 2, '%_i': 0.0, '%_you': 0.0, '%_we': 0.0, 'lingstat': 0.0}, 'albertho271': {'words': 41, 'num_tweets': 2, '%_i': 0.0, '%_you': 0.0, '%_we': 0.0, 'lingstat': 0.0}, 'redlix_tf': {'words': 9, 'num_tweets': 1, '%_i': 0.0, '%_you': 0.0, '%_we': 0.0, 'lingstat': 0.0}, 'antonyedgy': {'words': 15, 'num_tweets': 3, '%_i': 0.0, '%_you': 0.0, '%_we': 0.0, 'lingstat': 0.0}, 'casffles': {'words': 1, 'num_tweets': 1, '%_i': 0.0, '%_you': 0.0, '%_we': 0.0, 'lingstat': 0.0}, 'nyahnyahnikkini': {'words': 32, 'i_words': 2, 'num_tweets': 1, '%_i': 0.0625, '%_you': 0.0, '%_we': 0.0, 'lingstat': 0.0}, 'ggooober': {'words': 60, 'i_words': 3, 'num_tweets': 2, '%_i': 0.05, '%_you': 0.0, '%_we': 0.0, 'lingstat': 0.0}, 'mickspy': {'words': 25, 'i_words': 1, 'num_tweets': 1, '%_i': 0.04, '%_you': 0.0, '%_we': 0.0, 'lingstat': 0.0}, 'hellkaiser39': {'words': 6, 'num_tweets': 1, '%_i': 0.0, '%_you': 0.0, '%_we': 0.0, 'lingstat': 0.0}, 'saltlessrice': {'words': 1, 'num_tweets': 1, '%_i': 0.0, '%_you': 0.0, '%_we': 0.0, 'lingstat': 0.0}, 'tvoi_fanat_': {'words': 27, 'num_tweets': 1, '%_i': 0.0, '%_you': 0.0, '%_we': 0.0, 'lingstat': 0.0}, 'rafael11479': {'words': 17, 'num_tweets': 1, '%_i': 0.0, '%_you': 0.0, '%_we': 0.0, 'lingstat': 0.0}, 'vfernandocc': {'words': 22, 'num_tweets': 1, '%_i': 0.0, '%_you': 0.0, '%_we': 0.0, 'lingstat': 0.0}, 'jeagle_g': {'words': 23, 'num_tweets': 1, '%_i': 0.0, '%_you': 0.0, '%_we': 0.0, 'lingstat': 0.0}, 'matiasg63546095': {'words': 4, 'num_tweets': 1, '%_i': 0.0, '%_you': 0.0, '%_we': 0.0, 'lingstat': 0.0}, 'superyeet8': {'words': 1, 'num_tweets': 1, '%_i': 0.0, '%_you': 0.0, '%_we': 0.0, 'lingstat': 0.0}, 'riotabsolute': {'words': 4, 'num_tweets': 1, '%_i': 0.0, '%_you': 0.0, '%_we': 0.0, 'lingstat': 0.0}, 'adamjridding': {'words': 10, 'num_tweets': 1, '%_i': 0.0, '%_you': 0.0, '%_we': 0.0, 'lingstat': 0.0}, 'jadechar1': {'words': 6, 'num_tweets': 1, '%_i': 0.0, '%_you': 0.0, '%_we': 0.0, 'lingstat': 0.0}, 'rednayru_': {'words': 10, 'we_words': 1, 'num_tweets': 1, '%_i': 0.0, '%_you': 0.0, '%_we': 0.1, 'lingstat': 0.1}, 'azybuhaev': {'words': 80, 'num_tweets': 1, '%_i': 0.0, '%_you': 0.0, '%_we': 0.0, 'lingstat': 0.0}, 'belorusian': {'words': 143, 'i_words': 1, 'you_words': 1, 'num_tweets': 2, '%_i': 0.007, '%_you': 0.007, '%_we': 0.0, 'lingstat': 1.0}, 'golperandom': {'words': 5, 'num_tweets': 1, '%_i': 0.0, '%_you': 0.0, '%_we': 0.0, 'lingstat': 0.0}, 'antonbivis': {'words': 6, 'i_words': 1, 'num_tweets': 1, '%_i': 0.1667, '%_you': 0.0, '%_we': 0.0, 'lingstat': 0.0}, 'philippepaliss1': {'words': 4, 'num_tweets': 1, '%_i': 0.0, '%_you': 0.0, '%_we': 0.0, 'lingstat': 0.0}, 'anvitzinsfw': {'words': 28, 'i_words': 1, 'num_tweets': 1, '%_i': 0.0357, '%_you': 0.0, '%_we': 0.0, 'lingstat': 0.0}, 'mateogarciagon5': {'words': 30, 'i_words': 1, 'num_tweets': 1, '%_i': 0.0333, '%_you': 0.0, '%_we': 0.0, 'lingstat': 0.0}, 'softecarly': {'words': 27, 'i_words': 2, 'num_tweets': 1, '%_i': 0.0741, '%_you': 0.0, '%_we': 0.0, 'lingstat': 0.0}, 'davifer88178981': {'words': 27, 'i_words': 2, 'num_tweets': 1, '%_i': 0.0741, '%_you': 0.0, '%_we': 0.0, 'lingstat': 0.0}, '221cmori': {'words': 27, 'i_words': 2, 'num_tweets': 1, '%_i': 0.0741, '%_you': 0.0, '%_we': 0.0, 'lingstat': 0.0}, 'mnk91145275': {'words': 5, 'i_words': 1, 'num_tweets': 1, '%_i': 0.2, '%_you': 0.0, '%_we': 0.0, 'lingstat': 0.0}, 'plauk_sy': {'words': 2, 'num_tweets': 1, '%_i': 0.0, '%_you': 0.0, '%_we': 0.0, 'lingstat': 0.0}, 'adi_wolny': {'words': 4, 'num_tweets': 1, '%_i': 0.0, '%_you': 0.0, '%_we': 0.0, 'lingstat': 0.0}, 'terminaitorr79': {'words': 26, 'num_tweets': 1, '%_i': 0.0, '%_you': 0.0, '%_we': 0.0, 'lingstat': 0.0}, 'mstepann': {'words': 15, 'num_tweets': 1, '%_i': 0.0, '%_you': 0.0, '%_we': 0.0, 'lingstat': 0.0}, 'the_short_cat': {'words': 3, 'num_tweets': 1, '%_i': 0.0, '%_you': 0.0, '%_we': 0.0, 'lingstat': 0.0}, 'catboyfisky': {'words': 26, 'i_words': 1, 'num_tweets': 1, '%_i': 0.0385, '%_you': 0.0, '%_we': 0.0, 'lingstat': 0.0}, 'andrewer041': {'words': 1, 'num_tweets': 1, '%_i': 0.0, '%_you': 0.0, '%_we': 0.0, 'lingstat': 0.0}, 'commandercinth': {'words': 27, 'i_words': 2, 'num_tweets': 1, '%_i': 0.0741, '%_you': 0.0, '%_we': 0.0, 'lingstat': 0.0}, 'jebbidan': {'words': 19, 'we_words': 1, 'num_tweets': 1, '%_i': 0.0, '%_you': 0.0, '%_we': 0.0526, 'lingstat': 0.0526}, 'fooled_frog': {'words': 24, 'i_words': 2, 'num_tweets': 1, '%_i': 0.0833, '%_you': 0.0, '%_we': 0.0, 'lingstat': 0.0}, 'midget_mallow': {'words': 27, 'i_words': 2, 'num_tweets': 1, '%_i': 0.0741, '%_you': 0.0, '%_we': 0.0, 'lingstat': 0.0}, 'hotgrossdog': {'words': 9, 'num_tweets': 1, '%_i': 0.0, '%_you': 0.0, '%_we': 0.0, 'lingstat': 0.0}, 'kite__': {'words': 12, 'num_tweets': 1, '%_i': 0.0, '%_you': 0.0, '%_we': 0.0, 'lingstat': 0.0}, 'karmaobviously': {'words': 29, 'i_words': 1, 'num_tweets': 1, '%_i': 0.0345, '%_you': 0.0, '%_we': 0.0, 'lingstat': 0.0}, 'jojo21762493': {'words': 2, 'num_tweets': 1, '%_i': 0.0, '%_you': 0.0, '%_we': 0.0, 'lingstat': 0.0}, 'corytech08': {'words': 12, 'num_tweets': 1, '%_i': 0.0, '%_you': 0.0, '%_we': 0.0, 'lingstat': 0.0}, 'rafapedr0': {'words': 20, 'num_tweets': 1, '%_i': 0.0, '%_you': 0.0, '%_we': 0.0, 'lingstat': 0.0}, 'castlevaniax007': {'words': 28, 'num_tweets': 1, '%_i': 0.0, '%_you': 0.0, '%_we': 0.0, 'lingstat': 0.0}, 'destivcx': {'words': 4, 'num_tweets': 1, '%_i': 0.0, '%_you': 0.0, '%_we': 0.0, 'lingstat': 0.0}, 'knightspy3': {'words': 32, 'i_words': 1, 'num_tweets': 1, '%_i': 0.0312, '%_you': 0.0, '%_we': 0.0, 'lingstat': 0.0}, 'macqueenomoruyi': {'words': 21, 'num_tweets': 1, '%_i': 0.0, '%_you': 0.0, '%_we': 0.0, 'lingstat': 0.0}, 'esteven_alvarez': {'words': 21, 'num_tweets': 1, '%_i': 0.0, '%_you': 0.0, '%_we': 0.0, 'lingstat': 0.0}, 'felipinkho1': {'words': 24, 'num_tweets': 1, '%_i': 0.0, '%_you': 0.0, '%_we': 0.0, 'lingstat': 0.0}, 'trendingvidatm': {'words': 11, 'num_tweets': 1, '%_i': 0.0, '%_you': 0.0, '%_we': 0.0, 'lingstat': 0.0}, 'gameremirhan1': {'words': 2, 'num_tweets': 1, '%_i': 0.0, '%_you': 0.0, '%_we': 0.0, 'lingstat': 0.0}, 'ponurywieloryb': {'words': 29, 'num_tweets': 1, '%_i': 0.0, '%_you': 0.0, '%_we': 0.0, 'lingstat': 0.0}, 'benscrafts1234': {'words': 4, 'num_tweets': 1, '%_i': 0.0, '%_you': 0.0, '%_we': 0.0, 'lingstat': 0.0}, 'conehea64458249': {'words': 1, 'num_tweets': 1, '%_i': 0.0, '%_you': 0.0, '%_we': 0.0, 'lingstat': 0.0}, 'yumyum34788471': {'words': 4, 'num_tweets': 1, '%_i': 0.0, '%_you': 0.0, '%_we': 0.0, 'lingstat': 0.0}, 'vcserhomo': {'words': 31, 'num_tweets': 1, '%_i': 0.0, '%_you': 0.0, '%_we': 0.0, 'lingstat': 0.0}, 'simarpa46498576': {'words': 1, 'num_tweets': 1, '%_i': 0.0, '%_you': 0.0, '%_we': 0.0, 'lingstat': 0.0}, 'nawaminsiam': {'words': 18, 'num_tweets': 1, '%_i': 0.0, '%_you': 0.0, '%_we': 0.0, 'lingstat': 0.0}, 'geekomancer': {'words': 21, 'num_tweets': 1, '%_i': 0.0, '%_you': 0.0, '%_we': 0.0, 'lingstat': 0.0}, 'sammiboiiii': {'words': 1, 'num_tweets': 1, '%_i': 0.0, '%_you': 0.0, '%_we': 0.0, 'lingstat': 0.0}, 'bulletking61': {'words': 3, 'num_tweets': 1, '%_i': 0.0, '%_you': 0.0, '%_we': 0.0, 'lingstat': 0.0}, 'mx_hippakrit': {'words': 14, 'i_words': 2, 'num_tweets': 1, '%_i': 0.1429, '%_you': 0.0, '%_we': 0.0, 'lingstat': 0.0}, 'shers_wird_stuf': {'words': 30, 'i_words': 4, 'num_tweets': 1, '%_i': 0.1333, '%_you': 0.0, '%_we': 0.0, 'lingstat': 0.0}, 'fastblueapple9': {'words': 31, 'i_words': 4, 'num_tweets': 1, '%_i': 0.129, '%_you': 0.0, '%_we': 0.0, 'lingstat': 0.0}, 'centurionfox': {'words': 22, 'num_tweets': 1, '%_i': 0.0, '%_you': 0.0, '%_we': 0.0, 'lingstat': 0.0}}\n"
     ]
    }
   ],
   "source": [
    "# Generate linguisticstatus\n",
    "for key, value in complete_person.items():\n",
    "    i = complete_person[key]['%_i']\n",
    "    you = complete_person[key]['%_you']\n",
    "    we = complete_person[key]['%_we']\n",
    "    try: lingstat = (you + we) / i\n",
    "    except ZeroDivisionError: lingstat = you + we\n",
    "    complete_person[key]['lingstat'] = lingstat\n",
    "print(complete_person)"
   ]
  },
  {
   "cell_type": "code",
   "execution_count": null,
   "metadata": {
    "pycharm": {
     "name": "#%%\n"
    }
   },
   "outputs": [],
   "source": [
    "plt.figure(figsize=(20, 20), dpi= 200)\n",
    "nx.draw_networkx(G= G, edge_color=colors, node_color=node_colors, with_labels=False)"
   ]
  },
  {
   "cell_type": "code",
   "execution_count": null,
   "metadata": {
    "pycharm": {
     "name": "#%%\n"
    }
   },
   "outputs": [],
   "source": []
  }
 ],
 "metadata": {
  "kernelspec": {
   "display_name": "Python 3",
   "language": "python",
   "name": "python3"
  },
  "language_info": {
   "codemirror_mode": {
    "name": "ipython",
    "version": 3
   },
   "file_extension": ".py",
   "mimetype": "text/x-python",
   "name": "python",
   "nbconvert_exporter": "python",
   "pygments_lexer": "ipython3",
   "version": "3.8.2"
  }
 },
 "nbformat": 4,
 "nbformat_minor": 1
}
